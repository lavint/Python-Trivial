{
 "cells": [
  {
   "cell_type": "code",
   "execution_count": 1,
   "metadata": {},
   "outputs": [],
   "source": [
    "from bs4 import BeautifulSoup\n",
    "import requests\n",
    "import pymongo\n",
    "\n",
    "# Establish nongodb connection\n",
    "conn = 'mongodb://localhost:27017'\n",
    "client = pymongo.MongoClient(conn)\n",
    "\n",
    "# Declare the database\n",
    "db = client.biz_db\n",
    "\n",
    "# Declare the collection\n",
    "bikes = db.bikes\n",
    "\n",
    "# Drop the collection\n",
    "bikes.drop()\n",
    "\n",
    "url = 'https://newyork.craigslist.org/search/bia?query=bicycle&sort=rel'\n",
    "response = requests.get(url)\n",
    "\n",
    "# Get HTML code behind the page\n",
    "# Different parser options: html.parser, lxml, xml, lxml-xml, html5lib\n",
    "# https://www.crummy.com/software/BeautifulSoup/bs4/doc/#installing-a-parser\n",
    "soup = BeautifulSoup(response.text, 'lxml')\n",
    "# print(soup.prettify())\n",
    "\n",
    "# Set outputs to a list of all product information with li tag\n",
    "outputs = soup.find_all('li', class_='result-row')\n",
    "\n",
    "# For each product, get title, price and url\n",
    "for out in outputs:\n",
    "    try:\n",
    "        title = out.find('a', class_='result-title').text\n",
    "        price = out.find('span', class_='result-price').text\n",
    "        #  <span class=\"result-price\">$20</span>\n",
    "\n",
    "        #         price = out.a.span.text\n",
    "        #  <a class=\"result-image gallery\" data-ids=\"3:00000_dhzBRQ6ARaE_0ww0j6,3:00y0y_1DF8txFNuqI_0ww0oo,3:01515_5GJR7p9TiOe_0ww0oo,3:00Y0Y_bDnhFqmD7Qi_0lM0t2,3:00505_4QtOH76pFPK_0ww0oo,3:00d0d_6kvECXrLpMh_0ww0oo,3:00e0e_ctLIGVnVy77_0ww0oo,3:00505_bIDjx1jookI_0ww0oo\" href=\"https://newyork.craigslist.org/mnh/bik/d/new-york-specialized-globe-bicycle/7254301482.html\">\n",
    "        #  <span class=\"result-price\">$650</span>\n",
    "        #  </a>\n",
    "        \n",
    "        # Convert price to int\n",
    "        price = price.replace('$', '').replace(',', '')\n",
    "        price = int(price)\n",
    "        \n",
    "        # Get the attribute of the element using [], anything other than class\n",
    "        url = out.a['href']\n",
    "        \n",
    "        \n",
    "        dict_data = {\n",
    "            'title': title,\n",
    "            'price': price,\n",
    "            'url': url\n",
    "        }\n",
    "        \n",
    "        bikes.insert_one(dict_data)\n",
    "        \n",
    "    except AttributeError as e:\n",
    "        print(e)"
   ]
  },
  {
   "cell_type": "code",
   "execution_count": 2,
   "metadata": {},
   "outputs": [
    {
     "name": "stdout",
     "output_type": "stream",
     "text": [
      "{'_id': ObjectId('5fec0dff5c02877566317bd6'), 'title': \"Woman's Schwinn Cruiser Bicycle\", 'price': 60, 'url': 'https://newyork.craigslist.org/lgi/bik/d/glen-head-womans-schwinn-cruiser-bicycle/7246462798.html'}\n",
      "{'_id': ObjectId('5fec0dff5c02877566317bfe'), 'title': 'Girls Monster High Bicycle!  EXCELLENT - Best Offer Accepted!', 'price': 71, 'url': 'https://newyork.craigslist.org/brk/bik/d/brooklyn-girls-monster-high-bicycle/7249690932.html'}\n",
      "{'_id': ObjectId('5fec0dff5c02877566317bef'), 'title': 'Women’s 26” Huffy Trail Runner Bicycle', 'price': 75, 'url': 'https://newyork.craigslist.org/que/bik/d/howard-beach-womens-26-huffy-trail/7249939000.html'}\n",
      "{'_id': ObjectId('5fec0dff5c02877566317bc5'), 'title': 'Vintage Raleigh Beach Cruiser Bike Bicycle', 'price': 75, 'url': 'https://newyork.craigslist.org/mnh/bik/d/new-york-vintage-raleigh-beach-cruiser/7242646484.html'}\n",
      "{'_id': ObjectId('5fec0dff5c02877566317ba1'), 'title': 'TREK MYSTIC Bicycle 9 inch frame, 20inch tires', 'price': 80, 'url': 'https://newyork.craigslist.org/que/bik/d/commack-trek-mystic-bicycle-inch-frame/7239566479.html'}\n",
      "{'_id': ObjectId('5fec0dff5c02877566317bac'), 'title': \"Girl's GIANT TAFFY Single Speed Bicycle 11 inch frame\", 'price': 89, 'url': 'https://newyork.craigslist.org/lgi/bik/d/commack-girls-giant-taffy-single-speed/7249279796.html'}\n",
      "{'_id': ObjectId('5fec0dff5c02877566317bb7'), 'title': \"Girl's Single Speed RALEIGH JAZZI Bicycle 10 inch frame\", 'price': 90, 'url': 'https://newyork.craigslist.org/lgi/bik/d/commack-girls-single-speed-raleigh/7249655664.html'}\n",
      "{'_id': ObjectId('5fec0dff5c02877566317bad'), 'title': \"Girl's Single Speed RALEIGH JAZZI Bicycle 10 inch frame\", 'price': 90, 'url': 'https://newyork.craigslist.org/lgi/bik/d/commack-girls-single-speed-raleigh/7249279940.html'}\n",
      "{'_id': ObjectId('5fec0dff5c02877566317bdc'), 'title': 'HARO F-4 BMX Bicycle  11 inch frame, 19 inch top tube', 'price': 100, 'url': 'https://newyork.craigslist.org/lgi/bik/d/commack-haro-4-bmx-bicycle-11-inch/7251810212.html'}\n",
      "{'_id': ObjectId('5fec0dff5c02877566317bbf'), 'title': 'DK TRICK BMX Bicycle. 10 inch frame 20 inch tires', 'price': 100, 'url': 'https://newyork.craigslist.org/que/bik/d/commack-dk-trick-bmx-bicycle-10-inch/7248882393.html'}\n",
      "{'_id': ObjectId('5fec0dff5c02877566317bbe'), 'title': 'DK TRICK BMX Bicycle. 10 inch frame 20 inch tires', 'price': 100, 'url': 'https://newyork.craigslist.org/brk/bik/d/commack-dk-trick-bmx-bicycle-10-inch/7248882076.html'}\n",
      "{'_id': ObjectId('5fec0dff5c02877566317bbd'), 'title': 'DK \"TRICK\" BMX Bicycle. 10 inch frame 20 inch tires', 'price': 100, 'url': 'https://newyork.craigslist.org/lgi/bik/d/commack-dk-trick-bmx-bicycle-10-inch/7248881699.html'}\n",
      "{'_id': ObjectId('5fec0dff5c02877566317bba'), 'title': 'DIAMONDBACK GRIND PRO BMX Bicycle 19 inch top tube , 10 inch frame', 'price': 100, 'url': 'https://newyork.craigslist.org/lgi/bik/d/commack-diamondback-grind-pro-bmx/7246228490.html'}\n",
      "{'_id': ObjectId('5fec0dff5c02877566317baf'), 'title': 'Trek Bicycle GREAT condition', 'price': 100, 'url': 'https://newyork.craigslist.org/brk/bik/d/brooklyn-trek-bicycle-great-condition/7254112853.html'}\n",
      "{'_id': ObjectId('5fec0dff5c02877566317ba8'), 'title': 'Single Speed SPECIALIZED HOT ROCK 20 Bicycle 10 inch frame- Blue', 'price': 100, 'url': 'https://newyork.craigslist.org/lgi/bik/d/commack-single-speed-specialized-hot/7247036181.html'}\n",
      "{'_id': ObjectId('5fec0dff5c02877566317ba4'), 'title': 'Single Speed FUJI FAZER 20 Bicycle 10 inch frame', 'price': 100, 'url': 'https://newyork.craigslist.org/lgi/bik/d/commack-single-speed-fuji-fazer-20/7245709243.html'}\n",
      "{'_id': ObjectId('5fec0dff5c02877566317ba0'), 'title': 'Single Speed SPECIALIZED HOT ROCK 20 Bicycle 10 inch frame- Blue', 'price': 100, 'url': 'https://newyork.craigslist.org/lgi/bik/d/commack-single-speed-specialized-hot/7239137688.html'}\n",
      "{'_id': ObjectId('5fec0dff5c02877566317b9c'), 'title': 'Trek Adult 26 Aluminum Frame Alpha Custom Classic Cruiser Bike Bicycle', 'price': 100, 'url': 'https://newyork.craigslist.org/brk/bik/d/trek-adult-26-aluminum-frame-alpha/7246350081.html'}\n",
      "{'_id': ObjectId('5fec0dff5c02877566317b93'), 'title': '700c Mens Kent Fixie / Single Speed Bike Bicycle', 'price': 125, 'url': 'https://newyork.craigslist.org/mnh/bik/d/new-york-700c-mens-kent-fixie-single/7254273012.html'}\n",
      "{'_id': ObjectId('5fec0dff5c02877566317bbc'), 'title': '6 Speed DIAMONDBACK OCTANE Mountain Bicycle 11 inch frame', 'price': 150, 'url': 'https://newyork.craigslist.org/lgi/bik/d/commack-speed-diamondback-octane/7247544672.html'}\n",
      "{'_id': ObjectId('5fec0dff5c02877566317b9a'), 'title': 'Vintage Schwinn World Sport 10 Speed Bicycle', 'price': 150, 'url': 'https://newyork.craigslist.org/que/bik/d/garden-city-vintage-schwinn-world-sport/7243304199.html'}\n",
      "{'_id': ObjectId('5fec0dff5c02877566317b99'), 'title': 'Vintage Schwinn World Sport 10 Speed Bicycle', 'price': 150, 'url': 'https://newyork.craigslist.org/lgi/bik/d/garden-city-vintage-schwinn-world-sport/7243291554.html'}\n",
      "{'_id': ObjectId('5fec0dff5c02877566317b97'), 'title': 'GT Unisex Hybrid Bicycle - All Perfect.', 'price': 155, 'url': 'https://newyork.craigslist.org/brk/bik/d/brooklyn-gt-unisex-hybrid-bicycle-all/7253048605.html'}\n",
      "{'_id': ObjectId('5fec0dff5c02877566317b8a'), 'title': 'NEW Bicycle Mountain Bike', 'price': 160, 'url': 'https://newyork.craigslist.org/brk/bik/d/brooklyn-new-bicycle-mountain-bike/7248936237.html'}\n",
      "{'_id': ObjectId('5fec0dff5c02877566317bc7'), 'title': 'GT Unisex Hybrid Bicycle', 'price': 165, 'url': 'https://newyork.craigslist.org/brk/bik/d/brooklyn-gt-unisex-hybrid-bicycle/7247310253.html'}\n",
      "{'_id': ObjectId('5fec0dff5c02877566317bf2'), 'title': 'Huffy Monaco 17\" Frame Hybrid Bike / Bicycle', 'price': 175, 'url': 'https://newyork.craigslist.org/wch/bik/d/rye-huffy-monaco-17-frame-hybrid-bike/7250404273.html'}\n",
      "{'_id': ObjectId('5fec0dff5c02877566317bf1'), 'title': 'Giant MTX 250 FS BMX Style 24\" Wheel Mountain Bike / Bicycle', 'price': 175, 'url': 'https://newyork.craigslist.org/wch/bik/d/rye-giant-mtx-250-fs-bmx-style-24-wheel/7250395593.html'}\n",
      "{'_id': ObjectId('5fec0dff5c02877566317bd7'), 'title': 'Red Rollfast Bicycle', 'price': 180, 'url': 'https://newyork.craigslist.org/fct/bik/d/mount-kisco-red-rollfast-bicycle/7249483181.html'}\n",
      "{'_id': ObjectId('5fec0dff5c02877566317ba9'), 'title': '21 Speed TREK MT 220 Mountain Bicycle 11.5 inch frame', 'price': 180, 'url': 'https://newyork.craigslist.org/lgi/bik/d/commack-21-speed-trek-mt-220-mountain/7247036685.html'}\n",
      "{'_id': ObjectId('5fec0dff5c02877566317ba7'), 'title': '21 Speed DIAMONDBACK OUTLOOK Mountain Bicycle 16 inch frame', 'price': 180, 'url': 'https://newyork.craigslist.org/lgi/bik/d/commack-21-speed-diamondback-outlook/7247035855.html'}\n",
      "{'_id': ObjectId('5fec0dff5c02877566317ba5'), 'title': '21 Speed DIAMONDBACK OUTLOOK Mountain Bicycle 16 inch frame', 'price': 180, 'url': 'https://newyork.craigslist.org/brk/bik/d/commack-21-speed-diamondback-outlook/7246824639.html'}\n",
      "{'_id': ObjectId('5fec0dff5c02877566317b9e'), 'title': '21 Speed DIAMONDBACK OUTLOOK Mountain Bicycle 16 inch frame', 'price': 180, 'url': 'https://newyork.craigslist.org/que/bik/d/commack-21-speed-diamondback-outlook/7247036011.html'}\n",
      "{'_id': ObjectId('5fec0dff5c02877566317bab'), 'title': '10 Speed SCHWINN WORLD Road Bicycle 19 inch frame', 'price': 190, 'url': 'https://newyork.craigslist.org/brk/bik/d/commack-10-speed-schwinn-world-road/7249280703.html'}\n",
      "{'_id': ObjectId('5fec0dff5c02877566317baa'), 'title': '10 Speed SCHWINN WORLD Road Bicycle 19 inch frame', 'price': 190, 'url': 'https://newyork.craigslist.org/que/bik/d/commack-10-speed-schwinn-world-road/7249280314.html'}\n",
      "{'_id': ObjectId('5fec0dff5c02877566317b92'), 'title': 'Citizen Folding Bicycle 🚲', 'price': 199, 'url': 'https://newyork.craigslist.org/brk/bik/d/brooklyn-citizen-folding-bicycle/7240345596.html'}\n"
     ]
    },
    {
     "name": "stderr",
     "output_type": "stream",
     "text": [
      "C:\\Users\\80104697\\Anaconda3\\lib\\site-packages\\ipykernel_launcher.py:5: DeprecationWarning: count is deprecated. Use Collection.count_documents instead.\n",
      "  \"\"\"\n"
     ]
    },
    {
     "data": {
      "text/plain": [
       "35"
      ]
     },
     "execution_count": 2,
     "metadata": {},
     "output_type": "execute_result"
    }
   ],
   "source": [
    "# Print bikes that are between $50 and $400 sorted by price asc and id desc\n",
    "bikes_craigs = bikes.find({'price': {'$gt':50, '$lt':200}}).sort([('price', 1), ('_id', -1)])\n",
    "for bike in bikes_craigs:\n",
    "    print(bike)\n",
    "bikes_craigs.count()"
   ]
  },
  {
   "cell_type": "code",
   "execution_count": 3,
   "metadata": {},
   "outputs": [
    {
     "data": {
      "text/plain": [
       "120"
      ]
     },
     "execution_count": 3,
     "metadata": {},
     "output_type": "execute_result"
    }
   ],
   "source": [
    "bikes.count_documents({})\n"
   ]
  },
  {
   "cell_type": "markdown",
   "metadata": {},
   "source": [
    "## Web Splinter\n",
    "\n",
    "#### Interacts with the web browser programmatically\n",
    "#### Automates browser actions such as filling fields and clicking buttons"
   ]
  },
  {
   "cell_type": "code",
   "execution_count": 8,
   "metadata": {},
   "outputs": [],
   "source": [
    "from splinter import Browser\n",
    "from webdriver_manager.chrome import ChromeDriverManager\n",
    "import time"
   ]
  },
  {
   "cell_type": "code",
   "execution_count": 9,
   "metadata": {},
   "outputs": [],
   "source": [
    "# Drop the collection\n",
    "bikes.drop()\n"
   ]
  },
  {
   "cell_type": "code",
   "execution_count": 10,
   "metadata": {},
   "outputs": [
    {
     "name": "stderr",
     "output_type": "stream",
     "text": [
      "[WDM] - Current google-chrome version is 87.0.4280\n",
      "[WDM] - Get LATEST driver version for 87.0.4280\n",
      "[WDM] - Driver [C:\\Users\\80104697\\.wdm\\drivers\\chromedriver\\win32\\87.0.4280.88\\chromedriver.exe] found in cache\n"
     ]
    },
    {
     "name": "stdout",
     "output_type": "stream",
     "text": [
      " \n"
     ]
    }
   ],
   "source": [
    "executable_path = {'executable_path': ChromeDriverManager().install()}\n",
    "browser = Browser('chrome', **executable_path, headless=False)\n",
    "# Visit url\n",
    "url = 'https://newyork.craigslist.org/search/bia?query=bicycle&sort=rel'\n",
    "browser.visit(url)"
   ]
  },
  {
   "cell_type": "code",
   "execution_count": 11,
   "metadata": {},
   "outputs": [
    {
     "name": "stdout",
     "output_type": "stream",
     "text": [
      "Last Page reached\n",
      "484\n"
     ]
    }
   ],
   "source": [
    "try:\n",
    "    while True:\n",
    "\n",
    "        html = browser.html\n",
    "        soup = BeautifulSoup(html, 'lxml')\n",
    "\n",
    "        outputs = soup.find_all('li', class_='result-row')\n",
    "\n",
    "        # For each product, get title, price and url\n",
    "        for out in outputs:\n",
    "            try:\n",
    "                title = out.find('a', class_='result-title').text\n",
    "                price = out.find('span', class_='result-price').text\n",
    "\n",
    "                # Convert price to int\n",
    "                price = price.replace('$', '').replace(',', '')\n",
    "                price = int(price)\n",
    "\n",
    "                # Get the attribute of the element using [], anything other than class\n",
    "                url = out.a['href']\n",
    "\n",
    "\n",
    "                dict_data = {\n",
    "                    'title': title,\n",
    "                    'price': price,\n",
    "                    'url': url\n",
    "                }\n",
    "\n",
    "                bikes.insert_one(dict_data)\n",
    "\n",
    "            except AttributeError as e:\n",
    "                print(e)\n",
    "\n",
    "        browser.links.find_by_partial_text('next').click()\n",
    "        \n",
    "except:\n",
    "    print(\"Last Page reached\")\n",
    "    \n",
    "finally:\n",
    "    print(bikes.count_documents({}))\n",
    "    browser.quit()\n"
   ]
  }
 ],
 "metadata": {
  "kernelspec": {
   "display_name": "Python 3",
   "language": "python",
   "name": "python3"
  },
  "language_info": {
   "codemirror_mode": {
    "name": "ipython",
    "version": 3
   },
   "file_extension": ".py",
   "mimetype": "text/x-python",
   "name": "python",
   "nbconvert_exporter": "python",
   "pygments_lexer": "ipython3",
   "version": "3.7.9"
  }
 },
 "nbformat": 4,
 "nbformat_minor": 4
}
