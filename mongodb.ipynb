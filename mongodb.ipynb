{
 "cells": [
  {
   "cell_type": "code",
   "execution_count": 1,
   "metadata": {},
   "outputs": [],
   "source": [
    "import pymongo\n",
    "import datetime\n",
    "from pprint import pprint"
   ]
  },
  {
   "cell_type": "code",
   "execution_count": 2,
   "metadata": {},
   "outputs": [],
   "source": [
    "# Establish connections\n",
    "conn = 'mongodb://localhost:27017'\n",
    "client = pymongo.MongoClient(conn)\n",
    "\n",
    "# Declare the database\n",
    "db = client.biz_db\n",
    "\n",
    "# Declare the collection\n",
    "inquiry = db.inquiry"
   ]
  },
  {
   "cell_type": "code",
   "execution_count": 3,
   "metadata": {},
   "outputs": [],
   "source": [
    "def input_import():   \n",
    "    '''Take user inputs and insert to inquiry table'''\n",
    "    \n",
    "    # Ask users for inputs\n",
    "    name = input(\"Your Name: \")\n",
    "    email = input(\"Your email: \")\n",
    "    question = input(\"Your inquiry: \")\n",
    "\n",
    "    # Create a dictionary to make a MongoDB document\n",
    "    q = {\n",
    "        'name': name,\n",
    "        'email': email,\n",
    "        'question': question,\n",
    "        'post_timestamp': datetime.datetime.now()\n",
    "    }\n",
    "\n",
    "    # Insert a record into the table\n",
    "    inquiry.insert_one(q)"
   ]
  },
  {
   "cell_type": "code",
   "execution_count": 4,
   "metadata": {},
   "outputs": [
    {
     "name": "stdin",
     "output_type": "stream",
     "text": [
      "Your Name:  Abby\n",
      "Your email:  abby@gmail.com\n",
      "Your inquiry:  What is your hourly rate?\n",
      "Your Name:  Bobby\n",
      "Your email:  bobby@gmail.com\n",
      "Your inquiry:  What is your availability?\n",
      "Your Name:  Bobby\n",
      "Your email:  bobby2020@gmail.com\n",
      "Your inquiry:  Do you take cash?\n"
     ]
    }
   ],
   "source": [
    "input_import()\n",
    "input_import()\n",
    "input_import()"
   ]
  },
  {
   "cell_type": "code",
   "execution_count": 5,
   "metadata": {},
   "outputs": [],
   "source": [
    "def read_all():\n",
    "    '''Read all the data from inquiry table'''\n",
    "    \n",
    "    # read the inquiry collection\n",
    "    read_inquiry = inquiry.find()\n",
    "\n",
    "    # Loop through the collection\n",
    "    for ri in read_inquiry:\n",
    "        pprint(ri)\n",
    "        print('\\n')"
   ]
  },
  {
   "cell_type": "code",
   "execution_count": 6,
   "metadata": {},
   "outputs": [
    {
     "name": "stdout",
     "output_type": "stream",
     "text": [
      "{'_id': ObjectId('5fe7c50319347c50c0d96a71'),\n",
      " 'email': 'abby@gmail.com',\n",
      " 'name': 'Abby',\n",
      " 'post_timestamp': datetime.datetime(2020, 12, 26, 18, 19, 31, 224000),\n",
      " 'question': 'What is your hourly rate?'}\n",
      "\n",
      "\n",
      "{'_id': ObjectId('5fe7c51f19347c50c0d96a72'),\n",
      " 'email': 'bobby@gmail.com',\n",
      " 'name': 'Bobby',\n",
      " 'post_timestamp': datetime.datetime(2020, 12, 26, 18, 19, 59, 283000),\n",
      " 'question': 'What is your availability?'}\n",
      "\n",
      "\n",
      "{'_id': ObjectId('5fe7c53719347c50c0d96a73'),\n",
      " 'email': 'bobby2020@gmail.com',\n",
      " 'name': 'Bobby',\n",
      " 'post_timestamp': datetime.datetime(2020, 12, 26, 18, 20, 23, 742000),\n",
      " 'question': 'Do you take cash?'}\n",
      "\n",
      "\n"
     ]
    }
   ],
   "source": [
    "read_all()"
   ]
  },
  {
   "cell_type": "code",
   "execution_count": 7,
   "metadata": {},
   "outputs": [
    {
     "data": {
      "text/plain": [
       "<pymongo.results.UpdateResult at 0x181b53e5f88>"
      ]
     },
     "execution_count": 7,
     "metadata": {},
     "output_type": "execute_result"
    }
   ],
   "source": [
    "# Update only the first Bobby\n",
    "inquiry.update_one(\n",
    "    {'name': 'Bobby'},\n",
    "    {'$set':\n",
    "     {'email': 'newbobby@gmail.com'}\n",
    "    }\n",
    ")"
   ]
  },
  {
   "cell_type": "code",
   "execution_count": 8,
   "metadata": {},
   "outputs": [
    {
     "name": "stdout",
     "output_type": "stream",
     "text": [
      "{'_id': ObjectId('5fe7c50319347c50c0d96a71'),\n",
      " 'email': 'abby@gmail.com',\n",
      " 'name': 'Abby',\n",
      " 'post_timestamp': datetime.datetime(2020, 12, 26, 18, 19, 31, 224000),\n",
      " 'question': 'What is your hourly rate?'}\n",
      "\n",
      "\n",
      "{'_id': ObjectId('5fe7c51f19347c50c0d96a72'),\n",
      " 'email': 'newbobby@gmail.com',\n",
      " 'name': 'Bobby',\n",
      " 'post_timestamp': datetime.datetime(2020, 12, 26, 18, 19, 59, 283000),\n",
      " 'question': 'What is your availability?'}\n",
      "\n",
      "\n",
      "{'_id': ObjectId('5fe7c53719347c50c0d96a73'),\n",
      " 'email': 'bobby2020@gmail.com',\n",
      " 'name': 'Bobby',\n",
      " 'post_timestamp': datetime.datetime(2020, 12, 26, 18, 20, 23, 742000),\n",
      " 'question': 'Do you take cash?'}\n",
      "\n",
      "\n"
     ]
    }
   ],
   "source": [
    "read_all()"
   ]
  },
  {
   "cell_type": "code",
   "execution_count": 9,
   "metadata": {},
   "outputs": [
    {
     "data": {
      "text/plain": [
       "<pymongo.results.UpdateResult at 0x181b53de248>"
      ]
     },
     "execution_count": 9,
     "metadata": {},
     "output_type": "execute_result"
    }
   ],
   "source": [
    "# Update ALL Bobby with the same email\n",
    "inquiry.update_many(\n",
    "    {'name': 'Bobby'},\n",
    "    {'$set':\n",
    "     {'email': 'samebobby@gmail.com'}\n",
    "    }\n",
    ")"
   ]
  },
  {
   "cell_type": "code",
   "execution_count": 10,
   "metadata": {},
   "outputs": [
    {
     "name": "stdout",
     "output_type": "stream",
     "text": [
      "{'_id': ObjectId('5fe7c50319347c50c0d96a71'),\n",
      " 'email': 'abby@gmail.com',\n",
      " 'name': 'Abby',\n",
      " 'post_timestamp': datetime.datetime(2020, 12, 26, 18, 19, 31, 224000),\n",
      " 'question': 'What is your hourly rate?'}\n",
      "\n",
      "\n",
      "{'_id': ObjectId('5fe7c51f19347c50c0d96a72'),\n",
      " 'email': 'samebobby@gmail.com',\n",
      " 'name': 'Bobby',\n",
      " 'post_timestamp': datetime.datetime(2020, 12, 26, 18, 19, 59, 283000),\n",
      " 'question': 'What is your availability?'}\n",
      "\n",
      "\n",
      "{'_id': ObjectId('5fe7c53719347c50c0d96a73'),\n",
      " 'email': 'samebobby@gmail.com',\n",
      " 'name': 'Bobby',\n",
      " 'post_timestamp': datetime.datetime(2020, 12, 26, 18, 20, 23, 742000),\n",
      " 'question': 'Do you take cash?'}\n",
      "\n",
      "\n"
     ]
    }
   ],
   "source": [
    "read_all()"
   ]
  },
  {
   "cell_type": "code",
   "execution_count": 11,
   "metadata": {},
   "outputs": [
    {
     "data": {
      "text/plain": [
       "<pymongo.results.DeleteResult at 0x181b53dc1c8>"
      ]
     },
     "execution_count": 11,
     "metadata": {},
     "output_type": "execute_result"
    }
   ],
   "source": [
    "# Delete the first Bobby\n",
    "inquiry.delete_one({'name' : 'Bobby'})"
   ]
  },
  {
   "cell_type": "code",
   "execution_count": 12,
   "metadata": {},
   "outputs": [
    {
     "name": "stdout",
     "output_type": "stream",
     "text": [
      "{'_id': ObjectId('5fe7c50319347c50c0d96a71'),\n",
      " 'email': 'abby@gmail.com',\n",
      " 'name': 'Abby',\n",
      " 'post_timestamp': datetime.datetime(2020, 12, 26, 18, 19, 31, 224000),\n",
      " 'question': 'What is your hourly rate?'}\n",
      "\n",
      "\n",
      "{'_id': ObjectId('5fe7c53719347c50c0d96a73'),\n",
      " 'email': 'samebobby@gmail.com',\n",
      " 'name': 'Bobby',\n",
      " 'post_timestamp': datetime.datetime(2020, 12, 26, 18, 20, 23, 742000),\n",
      " 'question': 'Do you take cash?'}\n",
      "\n",
      "\n"
     ]
    }
   ],
   "source": [
    "read_all()"
   ]
  },
  {
   "cell_type": "code",
   "execution_count": 17,
   "metadata": {},
   "outputs": [],
   "source": [
    "# Drop the inquiry collection\n",
    "inquiry.drop()"
   ]
  },
  {
   "cell_type": "code",
   "execution_count": 17,
   "metadata": {},
   "outputs": [],
   "source": [
    "# Drop the biz_db database\n",
    "client.drop_database('biz_db')"
   ]
  }
 ],
 "metadata": {
  "kernelspec": {
   "display_name": "Python 3",
   "language": "python",
   "name": "python3"
  },
  "language_info": {
   "codemirror_mode": {
    "name": "ipython",
    "version": 3
   },
   "file_extension": ".py",
   "mimetype": "text/x-python",
   "name": "python",
   "nbconvert_exporter": "python",
   "pygments_lexer": "ipython3",
   "version": "3.7.9"
  }
 },
 "nbformat": 4,
 "nbformat_minor": 4
}
