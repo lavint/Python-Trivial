{
 "cells": [
  {
   "cell_type": "code",
   "execution_count": 1,
   "metadata": {},
   "outputs": [],
   "source": [
    "# Create Student class\n",
    "class Student():\n",
    "    \n",
    "    studentCount = 0\n",
    "    def __init__(self, name, subject, language):\n",
    "        self.name = name\n",
    "        self.subject = subject\n",
    "        self.language = language\n",
    "        Student.studentCount += 1\n",
    "\n",
    "\n",
    "# Create Robot class\n",
    "class Robot():\n",
    "    def __init__(self, name, color):\n",
    "        self.name = \"Robot \" + name\n",
    "        self.color = color\n",
    "        \n",
    "    def greet_student(self, student):\n",
    "        print(f'Hi {student.name}, my name is {self.name}. I am your tutor.')\n",
    "        print(f'I can speak {student.language} too!')\n",
    "        print(f'I have {Student.studentCount} student(s) so far')\n",
    "\n",
    "\n"
   ]
  },
  {
   "cell_type": "code",
   "execution_count": 2,
   "metadata": {},
   "outputs": [
    {
     "data": {
      "text/plain": [
       "'batman'"
      ]
     },
     "execution_count": 2,
     "metadata": {},
     "output_type": "execute_result"
    }
   ],
   "source": [
    "robot_tutor = Robot('Thor', 'Blue')\n",
    "student_1 = Student('batman', 'math', 'French')\n",
    "student_1.name"
   ]
  },
  {
   "cell_type": "code",
   "execution_count": 3,
   "metadata": {},
   "outputs": [
    {
     "name": "stdout",
     "output_type": "stream",
     "text": [
      "Hi batman, my name is Robot Thor. I am your tutor.\n",
      "I can speak French too!\n",
      "I have 1 student(s) so far\n"
     ]
    }
   ],
   "source": [
    "robot_tutor.greet_student(student_1)"
   ]
  },
  {
   "cell_type": "code",
   "execution_count": 4,
   "metadata": {},
   "outputs": [],
   "source": [
    "student_2 = Student('spiderman', 'biology', 'English')"
   ]
  },
  {
   "cell_type": "code",
   "execution_count": 5,
   "metadata": {},
   "outputs": [
    {
     "name": "stdout",
     "output_type": "stream",
     "text": [
      "Hi spiderman, my name is Robot Thor. I am your tutor.\n",
      "I can speak English too!\n",
      "I have 2 student(s) so far\n"
     ]
    }
   ],
   "source": [
    "robot_tutor.greet_student(student_2)"
   ]
  },
  {
   "cell_type": "code",
   "execution_count": null,
   "metadata": {},
   "outputs": [],
   "source": []
  }
 ],
 "metadata": {
  "kernelspec": {
   "display_name": "Python 3",
   "language": "python",
   "name": "python3"
  },
  "language_info": {
   "codemirror_mode": {
    "name": "ipython",
    "version": 3
   },
   "file_extension": ".py",
   "mimetype": "text/x-python",
   "name": "python",
   "nbconvert_exporter": "python",
   "pygments_lexer": "ipython3",
   "version": "3.7.9"
  }
 },
 "nbformat": 4,
 "nbformat_minor": 4
}
