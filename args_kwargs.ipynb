{
 "cells": [
  {
   "cell_type": "markdown",
   "metadata": {},
   "source": [
    "# Keyword arguments with vary lengths"
   ]
  },
  {
   "cell_type": "markdown",
   "metadata": {},
   "source": [
    "### **args*: non keywords, flexible length argument list\n",
    "\n",
    "### *\\**kwargs*: keywords(key-value pairs), flexible length argument list\n",
    "\n",
    "<br>\n",
    "\n",
    "##### Use * to make an iterable\n",
    "\n",
    "##### Use ** to make an key-value iterable\n",
    "\n",
    "<br>"
   ]
  },
  {
   "cell_type": "markdown",
   "metadata": {},
   "source": [
    "# ARGS"
   ]
  },
  {
   "cell_type": "code",
   "execution_count": 1,
   "metadata": {},
   "outputs": [
    {
     "name": "stdout",
     "output_type": "stream",
     "text": [
      "24\n",
      "6\n"
     ]
    }
   ],
   "source": [
    "def multiply_all(*args):\n",
    "    x = 1\n",
    "    for arg in args:\n",
    "        x *= arg\n",
    "    return x\n",
    "\n",
    "print(multiply_all(1,2,3,4))\n",
    "print(multiply_all(1,2,3,))\n"
   ]
  },
  {
   "cell_type": "code",
   "execution_count": 2,
   "metadata": {},
   "outputs": [
    {
     "name": "stdout",
     "output_type": "stream",
     "text": [
      "Test 1: \n",
      "---------------\n",
      "[1, 2, 3] DOES NOT equal [1, 2, 3, 3, 4]\n",
      "[1, 2, 3] equals [3, 2, 1]\n",
      "[1, 2, 3, 3, 4] DOES NOT equal [3, 2, 1]\n",
      "Test 2: \n",
      "---------------\n",
      "[1, 2, 3] DOES NOT equal [1, 2, 3, 3, 4]\n",
      "[1, 2, 3] equals [3, 2, 1]\n",
      "[1, 2, 3] DOES NOT equal [3, 1, 2, 3, 4]\n",
      "[1, 2, 3, 3, 4] DOES NOT equal [3, 2, 1]\n",
      "[1, 2, 3, 3, 4] equals [3, 1, 2, 3, 4]\n",
      "[3, 2, 1] DOES NOT equal [3, 1, 2, 3, 4]\n"
     ]
    }
   ],
   "source": [
    "ls1 = [1,2,3]\n",
    "ls2 = [1,2,3,3,4]\n",
    "ls3 = [3,2,1]\n",
    "ls4 = [3,1,2,3,4]\n",
    "\n",
    "\n",
    "def match_list(*args):\n",
    "    for i in range(len(args)):\n",
    "        for j in range(len(args)):\n",
    "            if i+j+1 < len(args):\n",
    "                if sorted(args[i]) == sorted(args[i+j+1]):\n",
    "                    print(f'{args[i]} equals {args[i+j+1]}')\n",
    "                else:\n",
    "                    print(f'{args[i]} DOES NOT equal {args[i+j+1]}')\n",
    "        \n",
    "\n",
    "print('Test 1: ')\n",
    "print('-' * 15)\n",
    "match_list(ls1, ls2, ls3)\n",
    "print('Test 2: ')\n",
    "print('-' * 15)\n",
    "match_list(ls1, ls2, ls3, ls4)"
   ]
  },
  {
   "cell_type": "markdown",
   "metadata": {},
   "source": [
    "<br>"
   ]
  },
  {
   "cell_type": "code",
   "execution_count": 10,
   "metadata": {},
   "outputs": [
    {
     "name": "stdout",
     "output_type": "stream",
     "text": [
      "Welcome to the multiplication game, I will do all the work for you\n"
     ]
    },
    {
     "name": "stdin",
     "output_type": "stream",
     "text": [
      "Enter your first name:  Kacey\n",
      "Enter all numbers that you'd like to multiply seperated with comma:  8.4, 62, 3.33\n"
     ]
    },
    {
     "name": "stdout",
     "output_type": "stream",
     "text": [
      "Hello, Kacey!\n",
      "Here is the answer: 1734.26\n"
     ]
    },
    {
     "data": {
      "text/plain": [
       "1734.26"
      ]
     },
     "execution_count": 10,
     "metadata": {},
     "output_type": "execute_result"
    }
   ],
   "source": [
    "# With the first argument being seperated\n",
    "\n",
    "print('Welcome to the multiplication game, I will do all the work for you')\n",
    "name = input('Enter your first name: ')\n",
    "numbers = input('Enter all numbers that you\\'d like to multiply seperated with comma: ')\n",
    "numbers = numbers.split(',')\n",
    "numbers = list(map(float, numbers))\n",
    "numbers\n",
    "\n",
    "def personalized_multiply_all(arg1, *args):\n",
    "    print(f'Hello, {arg1}!')\n",
    "    x = 1\n",
    "    for arg in args[0]:\n",
    "        x *= arg\n",
    "    print(f'Here is the answer: {x:.2f}')\n",
    "    return round(x, 2)\n",
    "\n",
    "personalized_multiply_all(name, numbers)\n",
    "\n",
    "        "
   ]
  },
  {
   "cell_type": "markdown",
   "metadata": {},
   "source": [
    "<br>"
   ]
  },
  {
   "cell_type": "markdown",
   "metadata": {},
   "source": [
    "# KWARGS"
   ]
  },
  {
   "cell_type": "code",
   "execution_count": 14,
   "metadata": {},
   "outputs": [
    {
     "name": "stdout",
     "output_type": "stream",
     "text": [
      "Method 1\n",
      "ls1 is [1, 2, 3]\n",
      "ls2 is [1, 2, 3, 3, 4]\n",
      "\n",
      "Method 2:\n",
      "ls1 is [1, 2, 3]\n",
      "ls2 is [1, 2, 3, 3, 4]\n"
     ]
    }
   ],
   "source": [
    "ls1 = [1,2,3]\n",
    "ls2 = [1,2,3,3,4]\n",
    "ls3 = [3,2,1]\n",
    "ls4 = [3,1,2,3,4]\n",
    "\n",
    "def match_list_kv(**kwargs):\n",
    "    print('Method 1')\n",
    "    for k, v in kwargs.items():\n",
    "        print('%s is %s' % (k, v))\n",
    "    \n",
    "    print('\\nMethod 2:')\n",
    "    for k in kwargs:\n",
    "        print('%s is %s' % (k, kwargs[k]))\n",
    "        \n",
    "match_list_kv(ls1 = [1,2,3], ls2 = [1,2,3,3,4])"
   ]
  },
  {
   "cell_type": "code",
   "execution_count": 15,
   "metadata": {},
   "outputs": [
    {
     "name": "stdout",
     "output_type": "stream",
     "text": [
      "ls1 DOES NOT equal ls2\n",
      "ls1 equals ls3\n",
      "ls1 DOES NOT equal ls4\n",
      "ls2 DOES NOT equal ls3\n",
      "ls2 equals ls4\n",
      "ls3 DOES NOT equal ls4\n"
     ]
    }
   ],
   "source": [
    "def match_list_keys_values(**kwargs):\n",
    "    ls_names = []\n",
    "    lss = []\n",
    "    for k, v in kwargs.items():\n",
    "        ls_names.append(k)\n",
    "        lss.append(v)\n",
    "    for i in range(len(lss)):\n",
    "        for j in range(len(lss)):\n",
    "            if i+j+1 < len(lss):\n",
    "                if sorted(lss[i]) == sorted(lss[i+j+1]):\n",
    "                    print(f'{ls_names[i]} equals {ls_names[i+j+1]}')\n",
    "                else:\n",
    "                    print(f'{ls_names[i]} DOES NOT equal {ls_names[i+j+1]}')\n",
    "match_list_keys_values(ls1 = [1,2,3], ls2 = [1,2,3,3,4], ls3 = [3,2,1], ls4 = [3,1,2,3,4])"
   ]
  },
  {
   "cell_type": "markdown",
   "metadata": {},
   "source": [
    "<br>"
   ]
  },
  {
   "cell_type": "markdown",
   "metadata": {},
   "source": [
    "# Packing and unpacking with \\*args or \\*\\*kwargs"
   ]
  },
  {
   "cell_type": "code",
   "execution_count": 16,
   "metadata": {},
   "outputs": [
    {
     "name": "stdout",
     "output_type": "stream",
     "text": [
      "arg1: Good morning\n",
      "arg2: breakfast only\n",
      "arg3: eggs?\n"
     ]
    }
   ],
   "source": [
    "# Takes 3 arguments are print them\n",
    "def print_all(arg1, arg2, arg3): \n",
    "    print(\"arg1:\", arg1) \n",
    "    print(\"arg2:\", arg2) \n",
    "    print(\"arg3:\", arg3) \n",
    "    \n",
    "# All arguments passed in are packed into a tuple *arg\n",
    "def default_greeting(*args):\n",
    "    args = list(args)\n",
    "    args[0] = 'Good morning'\n",
    "    \n",
    "    # Unpacking args and pass them into print_all function\n",
    "    print_all(*args)\n",
    "    \n",
    "    \n",
    "default_greeting('Nightnight', 'breakfast only', 'eggs?')\n",
    "  \n"
   ]
  },
  {
   "cell_type": "code",
   "execution_count": null,
   "metadata": {},
   "outputs": [],
   "source": []
  }
 ],
 "metadata": {
  "kernelspec": {
   "display_name": "Python 3",
   "language": "python",
   "name": "python3"
  },
  "language_info": {
   "codemirror_mode": {
    "name": "ipython",
    "version": 3
   },
   "file_extension": ".py",
   "mimetype": "text/x-python",
   "name": "python",
   "nbconvert_exporter": "python",
   "pygments_lexer": "ipython3",
   "version": "3.7.9"
  }
 },
 "nbformat": 4,
 "nbformat_minor": 4
}
