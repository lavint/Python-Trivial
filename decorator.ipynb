{
 "cells": [
  {
   "cell_type": "markdown",
   "metadata": {},
   "source": [
    "# Decorator"
   ]
  },
  {
   "cell_type": "markdown",
   "metadata": {},
   "source": [
    "### Allows us to wrap another function to extend the behavior of that function\n",
    "### Returns a modified function"
   ]
  },
  {
   "cell_type": "markdown",
   "metadata": {},
   "source": [
    "* Class Decorator\n",
    "* Function Decorator"
   ]
  },
  {
   "cell_type": "code",
   "execution_count": 9,
   "metadata": {},
   "outputs": [
    {
     "name": "stdout",
     "output_type": "stream",
     "text": [
      "Calling the greeting function\n",
      "In Decor\n",
      "Hi, Karen\n",
      "Out Decor\n"
     ]
    }
   ],
   "source": [
    "def decor(func):\n",
    "    def func_wrapper(x):\n",
    "        print('Calling the ' + func.__name__ + ' function')\n",
    "        print('In Decor')\n",
    "        func(x)\n",
    "        print('Out Decor')\n",
    "    return func_wrapper\n",
    "\n",
    "def greeting(x):\n",
    "    print(f'Hi, {x}')\n",
    "    \n",
    "greeting = decor(greeting)  # use this way to decorate third party function\n",
    "greeting('Karen')"
   ]
  },
  {
   "cell_type": "markdown",
   "metadata": {},
   "source": [
    "### A typical way is to use @decorator a line above the function"
   ]
  },
  {
   "cell_type": "code",
   "execution_count": 12,
   "metadata": {},
   "outputs": [
    {
     "name": "stdout",
     "output_type": "stream",
     "text": [
      "Hi, Steve\n"
     ]
    }
   ],
   "source": [
    "def greeting(x):\n",
    "    print(f'Hi, {x}')\n",
    "greeting('Steve')"
   ]
  },
  {
   "cell_type": "code",
   "execution_count": 13,
   "metadata": {},
   "outputs": [
    {
     "name": "stdout",
     "output_type": "stream",
     "text": [
      "Calling the greeting function\n",
      "In Decor\n",
      "Hi, Steve\n",
      "Out Decor\n"
     ]
    }
   ],
   "source": [
    "@decor\n",
    "def greeting(x):\n",
    "    print(f'Hi, {x}')\n",
    "greeting('Steve')"
   ]
  },
  {
   "cell_type": "markdown",
   "metadata": {},
   "source": [
    "<br>"
   ]
  },
  {
   "cell_type": "markdown",
   "metadata": {},
   "source": [
    "### Example 1: Rewrite error"
   ]
  },
  {
   "cell_type": "code",
   "execution_count": 8,
   "metadata": {},
   "outputs": [
    {
     "ename": "Exception",
     "evalue": "Second arguments must be greater than 0",
     "output_type": "error",
     "traceback": [
      "\u001b[1;31m---------------------------------------------------------------------------\u001b[0m",
      "\u001b[1;31mException\u001b[0m                                 Traceback (most recent call last)",
      "\u001b[1;32m<ipython-input-8-2a60850ee0f8>\u001b[0m in \u001b[0;36m<module>\u001b[1;34m\u001b[0m\n\u001b[0;32m     11\u001b[0m     \u001b[1;32mreturn\u001b[0m \u001b[0mx\u001b[0m \u001b[1;33m/\u001b[0m \u001b[0mn\u001b[0m\u001b[1;33m\u001b[0m\u001b[1;33m\u001b[0m\u001b[0m\n\u001b[0;32m     12\u001b[0m \u001b[1;33m\u001b[0m\u001b[0m\n\u001b[1;32m---> 13\u001b[1;33m \u001b[0mdivision\u001b[0m\u001b[1;33m(\u001b[0m\u001b[1;36m5\u001b[0m\u001b[1;33m,\u001b[0m \u001b[1;36m0\u001b[0m\u001b[1;33m)\u001b[0m\u001b[1;33m\u001b[0m\u001b[1;33m\u001b[0m\u001b[0m\n\u001b[0m",
      "\u001b[1;32m<ipython-input-8-2a60850ee0f8>\u001b[0m in \u001b[0;36mhelper\u001b[1;34m(x, n)\u001b[0m\n\u001b[0;32m      4\u001b[0m             \u001b[0mfunc\u001b[0m\u001b[1;33m(\u001b[0m\u001b[0mx\u001b[0m\u001b[1;33m,\u001b[0m \u001b[0mn\u001b[0m\u001b[1;33m)\u001b[0m\u001b[1;33m\u001b[0m\u001b[1;33m\u001b[0m\u001b[0m\n\u001b[0;32m      5\u001b[0m         \u001b[1;32melse\u001b[0m\u001b[1;33m:\u001b[0m\u001b[1;33m\u001b[0m\u001b[1;33m\u001b[0m\u001b[0m\n\u001b[1;32m----> 6\u001b[1;33m             \u001b[1;32mraise\u001b[0m \u001b[0mException\u001b[0m\u001b[1;33m(\u001b[0m\u001b[1;34m\"Second arguments must be greater than 0\"\u001b[0m\u001b[1;33m)\u001b[0m\u001b[1;33m\u001b[0m\u001b[1;33m\u001b[0m\u001b[0m\n\u001b[0m\u001b[0;32m      7\u001b[0m     \u001b[1;32mreturn\u001b[0m \u001b[0mhelper\u001b[0m\u001b[1;33m\u001b[0m\u001b[1;33m\u001b[0m\u001b[0m\n\u001b[0;32m      8\u001b[0m \u001b[1;33m\u001b[0m\u001b[0m\n",
      "\u001b[1;31mException\u001b[0m: Second arguments must be greater than 0"
     ]
    }
   ],
   "source": [
    "def check_positive(func):\n",
    "    def helper(x, n):\n",
    "        if n > 0:\n",
    "            func(x, n)\n",
    "        else:\n",
    "            raise Exception(\"Second arguments must be greater than 0\")\n",
    "    return helper\n",
    "\n",
    "@check_positive\n",
    "def division(x, n):\n",
    "    return x / n\n",
    "\n",
    "division(5, 0)"
   ]
  },
  {
   "cell_type": "markdown",
   "metadata": {},
   "source": [
    "### Example 2: Count function calls"
   ]
  },
  {
   "cell_type": "code",
   "execution_count": 18,
   "metadata": {},
   "outputs": [
    {
     "name": "stdout",
     "output_type": "stream",
     "text": [
      "The add_two function is being called 10 times\n",
      "After the last call, the number equals 11\n"
     ]
    }
   ],
   "source": [
    "def count_func_calls(func):\n",
    "    def helper(x):\n",
    "        helper.calls += 1\n",
    "        return func(x)\n",
    "    \n",
    "    helper.calls = 0\n",
    "    \n",
    "    return helper\n",
    "\n",
    "@count_func_calls\n",
    "def add_two(x):\n",
    "    return x + 2\n",
    "\n",
    "for i in range(10):\n",
    "    num = add_two(i)\n",
    "\n",
    "print(f'The add_two function is being called {add_two.calls} times\\nAfter the last call, the number equals {num}')"
   ]
  },
  {
   "cell_type": "markdown",
   "metadata": {},
   "source": [
    "### \\*Example 3: Decorator with flexible number of arguments "
   ]
  },
  {
   "cell_type": "code",
   "execution_count": 33,
   "metadata": {},
   "outputs": [
    {
     "name": "stdout",
     "output_type": "stream",
     "text": [
      "The add_two function is being called 10 times\n",
      "The greeting function is being called 2 times\n"
     ]
    }
   ],
   "source": [
    "def count_func_calls(func):\n",
    "        \n",
    "    # Use *args and **kwargs\n",
    "    def helper(*args, **kwargs):\n",
    "        helper.calls += 1\n",
    "        return func(*args, **kwargs)\n",
    "    \n",
    "    # Create a function attribute\n",
    "    helper.calls = 0\n",
    "\n",
    "    return helper\n",
    "\n",
    "@count_func_calls\n",
    "def add_two(x):\n",
    "    return x + 2\n",
    "\n",
    "for i in range(10):\n",
    "    num = add_two(i)\n",
    "\n",
    "print(f'The add_two function is being called {add_two.calls} times')\n",
    "      \n",
    "\n",
    "@count_func_calls\n",
    "def greeting(name1, name2):\n",
    "    return f'Hi, {name1} and {name2}'\n",
    "    \n",
    "greeting('Hayley', 'Nancy')\n",
    "greeting('Owen', 'Kanji')\n",
    "\n",
    "print(f'The greeting function is being called {greeting.calls} times')"
   ]
  },
  {
   "cell_type": "markdown",
   "metadata": {},
   "source": [
    "<br>\n",
    "\n",
    "### Add parameters to decorator"
   ]
  },
  {
   "cell_type": "code",
   "execution_count": 45,
   "metadata": {},
   "outputs": [
    {
     "name": "stdout",
     "output_type": "stream",
     "text": [
      "Calling the greeting function\n",
      "In Decor\n",
      "Hola Karen\n",
      "Out Decor\n"
     ]
    }
   ],
   "source": [
    "# Add extra def layer to add parameters\n",
    "def greeting_helper(expr):\n",
    "    def decor(func):\n",
    "        def func_wrapper(x):\n",
    "            print('Calling the ' + func.__name__ + ' function')\n",
    "            print('In Decor')\n",
    "            \n",
    "            # Print expression and function\n",
    "            print(expr, func(x))       \n",
    "            print('Out Decor')\n",
    "        return func_wrapper\n",
    "    return decor\n",
    "\n",
    "@greeting_helper('Hola')\n",
    "def greeting(name):\n",
    "    return name\n",
    "\n",
    "greeting('Karen')"
   ]
  },
  {
   "cell_type": "markdown",
   "metadata": {},
   "source": [
    "<br>\n",
    "\n",
    "### Function Decorator and Class Decorator"
   ]
  },
  {
   "cell_type": "code",
   "execution_count": 49,
   "metadata": {},
   "outputs": [
    {
     "name": "stdout",
     "output_type": "stream",
     "text": [
      "Decorating say_hi\n",
      "Hi\n",
      "Decorating say_bye\n",
      "Bye\n"
     ]
    }
   ],
   "source": [
    "# Function Decorator\n",
    "def decorator1(func):\n",
    "    \n",
    "    def helper():\n",
    "        print(\"Decorating\", func.__name__)\n",
    "        func()\n",
    "    return helper\n",
    "\n",
    "@decorator1\n",
    "def say_hi():\n",
    "    print(\"Hi\")\n",
    " \n",
    "say_hi()\n",
    "\n",
    "# Class Decorator\n",
    "class decorator2:\n",
    "    \n",
    "    def __init__(self, func):\n",
    "        self.func = func\n",
    "        \n",
    "    def __call__(self):\n",
    "        print(\"Decorating\", self.func.__name__)\n",
    "        self.func()\n",
    "\n",
    "@decorator2\n",
    "def say_bye():\n",
    "    print(\"Bye\")\n",
    "\n",
    "say_bye()    \n"
   ]
  }
 ],
 "metadata": {
  "kernelspec": {
   "display_name": "Python 3",
   "language": "python",
   "name": "python3"
  },
  "language_info": {
   "codemirror_mode": {
    "name": "ipython",
    "version": 3
   },
   "file_extension": ".py",
   "mimetype": "text/x-python",
   "name": "python",
   "nbconvert_exporter": "python",
   "pygments_lexer": "ipython3",
   "version": "3.7.9"
  }
 },
 "nbformat": 4,
 "nbformat_minor": 4
}
