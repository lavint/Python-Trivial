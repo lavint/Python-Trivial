{
 "cells": [
  {
   "cell_type": "code",
   "execution_count": 1,
   "metadata": {},
   "outputs": [],
   "source": [
    "from sqlalchemy import create_engine\n",
    "import pandas as pd"
   ]
  },
  {
   "cell_type": "code",
   "execution_count": 2,
   "metadata": {},
   "outputs": [
    {
     "name": "stdout",
     "output_type": "stream",
     "text": [
      "1.1.3\n"
     ]
    }
   ],
   "source": [
    "print(pd.__version__)"
   ]
  },
  {
   "cell_type": "code",
   "execution_count": 3,
   "metadata": {},
   "outputs": [],
   "source": [
    "database_path = 'Resources/Census_Data.sqlite'\n",
    "engine = create_engine(f'sqlite:///{database_path}')"
   ]
  },
  {
   "cell_type": "code",
   "execution_count": null,
   "metadata": {},
   "outputs": [],
   "source": [
    "# method 1\n",
    "data = engine.execute(\"SELECT * FROM Census_Data\")\n",
    "for r in data:\n",
    "    print(r)"
   ]
  },
  {
   "cell_type": "code",
   "execution_count": 5,
   "metadata": {},
   "outputs": [
    {
     "data": {
      "text/html": [
       "<div>\n",
       "<style scoped>\n",
       "    .dataframe tbody tr th:only-of-type {\n",
       "        vertical-align: middle;\n",
       "    }\n",
       "\n",
       "    .dataframe tbody tr th {\n",
       "        vertical-align: top;\n",
       "    }\n",
       "\n",
       "    .dataframe thead th {\n",
       "        text-align: right;\n",
       "    }\n",
       "</style>\n",
       "<table border=\"1\" class=\"dataframe\">\n",
       "  <thead>\n",
       "    <tr style=\"text-align: right;\">\n",
       "      <th></th>\n",
       "      <th>CityState</th>\n",
       "      <th>city</th>\n",
       "      <th>state</th>\n",
       "      <th>Population</th>\n",
       "      <th>White Population</th>\n",
       "      <th>Black Population</th>\n",
       "      <th>Native American Population</th>\n",
       "      <th>Asian Population</th>\n",
       "      <th>Hispanic Population</th>\n",
       "      <th>Education None</th>\n",
       "      <th>...</th>\n",
       "      <th>Employment Female Computer Engineering</th>\n",
       "      <th>Median Age</th>\n",
       "      <th>Median Male Age</th>\n",
       "      <th>Median Female Age</th>\n",
       "      <th>Household Income</th>\n",
       "      <th>Income Per Capita</th>\n",
       "      <th>Median Gross Rent</th>\n",
       "      <th>Median Home Value</th>\n",
       "      <th>lat</th>\n",
       "      <th>lng</th>\n",
       "    </tr>\n",
       "  </thead>\n",
       "  <tbody>\n",
       "    <tr>\n",
       "      <th>0</th>\n",
       "      <td>HOUSTON, TX</td>\n",
       "      <td>HOUSTON</td>\n",
       "      <td>TX</td>\n",
       "      <td>3061887</td>\n",
       "      <td>1775897</td>\n",
       "      <td>684416</td>\n",
       "      <td>11586</td>\n",
       "      <td>230549</td>\n",
       "      <td>1368287</td>\n",
       "      <td>54180</td>\n",
       "      <td>...</td>\n",
       "      <td>22637</td>\n",
       "      <td>33.439583</td>\n",
       "      <td>32.550000</td>\n",
       "      <td>34.363542</td>\n",
       "      <td>56206.50000</td>\n",
       "      <td>32239.52083</td>\n",
       "      <td>956.708333</td>\n",
       "      <td>178233.6842</td>\n",
       "      <td>29.775734</td>\n",
       "      <td>-95.414548</td>\n",
       "    </tr>\n",
       "    <tr>\n",
       "      <th>1</th>\n",
       "      <td>CHICAGO, IL</td>\n",
       "      <td>CHICAGO</td>\n",
       "      <td>IL</td>\n",
       "      <td>2702091</td>\n",
       "      <td>1318869</td>\n",
       "      <td>843633</td>\n",
       "      <td>7554</td>\n",
       "      <td>161478</td>\n",
       "      <td>785374</td>\n",
       "      <td>32800</td>\n",
       "      <td>...</td>\n",
       "      <td>18209</td>\n",
       "      <td>34.526786</td>\n",
       "      <td>33.798214</td>\n",
       "      <td>35.141071</td>\n",
       "      <td>57735.96429</td>\n",
       "      <td>38730.83929</td>\n",
       "      <td>1119.928571</td>\n",
       "      <td>264739.2857</td>\n",
       "      <td>41.867838</td>\n",
       "      <td>-87.673440</td>\n",
       "    </tr>\n",
       "    <tr>\n",
       "      <th>2</th>\n",
       "      <td>BROOKLYN, NY</td>\n",
       "      <td>BROOKLYN</td>\n",
       "      <td>NY</td>\n",
       "      <td>2595259</td>\n",
       "      <td>1126111</td>\n",
       "      <td>870465</td>\n",
       "      <td>8744</td>\n",
       "      <td>297890</td>\n",
       "      <td>509243</td>\n",
       "      <td>48934</td>\n",
       "      <td>...</td>\n",
       "      <td>14845</td>\n",
       "      <td>35.175676</td>\n",
       "      <td>33.367568</td>\n",
       "      <td>36.578378</td>\n",
       "      <td>51469.18919</td>\n",
       "      <td>28309.67568</td>\n",
       "      <td>1261.783784</td>\n",
       "      <td>605743.2432</td>\n",
       "      <td>40.652805</td>\n",
       "      <td>-73.956528</td>\n",
       "    </tr>\n",
       "    <tr>\n",
       "      <th>3</th>\n",
       "      <td>LOS ANGELES, CA</td>\n",
       "      <td>LOS ANGELES</td>\n",
       "      <td>CA</td>\n",
       "      <td>2426413</td>\n",
       "      <td>1068202</td>\n",
       "      <td>324842</td>\n",
       "      <td>15949</td>\n",
       "      <td>273829</td>\n",
       "      <td>1292382</td>\n",
       "      <td>62684</td>\n",
       "      <td>...</td>\n",
       "      <td>12329</td>\n",
       "      <td>35.335484</td>\n",
       "      <td>34.535484</td>\n",
       "      <td>36.061290</td>\n",
       "      <td>47494.58333</td>\n",
       "      <td>30073.19355</td>\n",
       "      <td>1201.766667</td>\n",
       "      <td>557115.0000</td>\n",
       "      <td>34.042209</td>\n",
       "      <td>-118.303468</td>\n",
       "    </tr>\n",
       "    <tr>\n",
       "      <th>4</th>\n",
       "      <td>MIAMI, FL</td>\n",
       "      <td>MIAMI</td>\n",
       "      <td>FL</td>\n",
       "      <td>1820704</td>\n",
       "      <td>1361009</td>\n",
       "      <td>363514</td>\n",
       "      <td>2250</td>\n",
       "      <td>33144</td>\n",
       "      <td>1162711</td>\n",
       "      <td>27137</td>\n",
       "      <td>...</td>\n",
       "      <td>6969</td>\n",
       "      <td>38.740741</td>\n",
       "      <td>37.120370</td>\n",
       "      <td>40.262963</td>\n",
       "      <td>51232.90741</td>\n",
       "      <td>25949.35185</td>\n",
       "      <td>1260.833333</td>\n",
       "      <td>243279.6296</td>\n",
       "      <td>25.760268</td>\n",
       "      <td>-80.298511</td>\n",
       "    </tr>\n",
       "  </tbody>\n",
       "</table>\n",
       "<p>5 rows × 31 columns</p>\n",
       "</div>"
      ],
      "text/plain": [
       "         CityState         city state  Population  White Population  \\\n",
       "0      HOUSTON, TX      HOUSTON    TX     3061887           1775897   \n",
       "1      CHICAGO, IL      CHICAGO    IL     2702091           1318869   \n",
       "2     BROOKLYN, NY     BROOKLYN    NY     2595259           1126111   \n",
       "3  LOS ANGELES, CA  LOS ANGELES    CA     2426413           1068202   \n",
       "4        MIAMI, FL        MIAMI    FL     1820704           1361009   \n",
       "\n",
       "   Black Population  Native American Population  Asian Population  \\\n",
       "0            684416                       11586            230549   \n",
       "1            843633                        7554            161478   \n",
       "2            870465                        8744            297890   \n",
       "3            324842                       15949            273829   \n",
       "4            363514                        2250             33144   \n",
       "\n",
       "   Hispanic Population  Education None  ...  \\\n",
       "0              1368287           54180  ...   \n",
       "1               785374           32800  ...   \n",
       "2               509243           48934  ...   \n",
       "3              1292382           62684  ...   \n",
       "4              1162711           27137  ...   \n",
       "\n",
       "   Employment Female Computer Engineering  Median Age  Median Male Age  \\\n",
       "0                                   22637   33.439583        32.550000   \n",
       "1                                   18209   34.526786        33.798214   \n",
       "2                                   14845   35.175676        33.367568   \n",
       "3                                   12329   35.335484        34.535484   \n",
       "4                                    6969   38.740741        37.120370   \n",
       "\n",
       "   Median Female Age  Household Income  Income Per Capita  Median Gross Rent  \\\n",
       "0          34.363542       56206.50000        32239.52083         956.708333   \n",
       "1          35.141071       57735.96429        38730.83929        1119.928571   \n",
       "2          36.578378       51469.18919        28309.67568        1261.783784   \n",
       "3          36.061290       47494.58333        30073.19355        1201.766667   \n",
       "4          40.262963       51232.90741        25949.35185        1260.833333   \n",
       "\n",
       "   Median Home Value        lat         lng  \n",
       "0        178233.6842  29.775734  -95.414548  \n",
       "1        264739.2857  41.867838  -87.673440  \n",
       "2        605743.2432  40.652805  -73.956528  \n",
       "3        557115.0000  34.042209 -118.303468  \n",
       "4        243279.6296  25.760268  -80.298511  \n",
       "\n",
       "[5 rows x 31 columns]"
      ]
     },
     "execution_count": 5,
     "metadata": {},
     "output_type": "execute_result"
    }
   ],
   "source": [
    "# method 2\n",
    "conn = engine.connect()\n",
    "df = pd.read_sql(\"SELECT * FROM Census_Data\", conn)\n",
    "df.head()"
   ]
  },
  {
   "cell_type": "code",
   "execution_count": null,
   "metadata": {},
   "outputs": [],
   "source": []
  },
  {
   "cell_type": "markdown",
   "metadata": {},
   "source": [
    "### SQLAlchemy uses Python classes as its primary means to communicate and make changes to SQL databases\n",
    "##### This makes SQLAlchemy an ORM because it uses objects to map changes to SQL tables/databases"
   ]
  },
  {
   "cell_type": "code",
   "execution_count": 19,
   "metadata": {},
   "outputs": [],
   "source": [
    "from sqlalchemy import create_engine\n",
    "from sqlalchemy.ext.declarative import declarative_base\n",
    "Base = declarative_base()\n",
    "from sqlalchemy import Column, Integer, String, Float"
   ]
  },
  {
   "cell_type": "code",
   "execution_count": 20,
   "metadata": {},
   "outputs": [],
   "source": [
    "# Create Rabbit closs\n",
    "class Rabbit(Base):\n",
    "    __tablename__ = \"rabbit\"\n",
    "    id = Column(Integer, primary_key=True)\n",
    "    name = Column(String(255))\n",
    "    color = Column(String(255))\n",
    "    age = Column(Integer)"
   ]
  },
  {
   "cell_type": "code",
   "execution_count": 21,
   "metadata": {},
   "outputs": [],
   "source": [
    "# Create Owl class\n",
    "class Owl(Base):\n",
    "    __tablename__ = \"owl\"\n",
    "    id = Column(Integer, primary_key=True)\n",
    "    name = Column(String(255))\n",
    "    color = Column(String(255))\n",
    "    age = Column(Integer)"
   ]
  },
  {
   "cell_type": "code",
   "execution_count": 22,
   "metadata": {},
   "outputs": [],
   "source": [
    "# Create an instance for each class\n",
    "rabbit = Rabbit(name='mimi', color='white', age=2)\n",
    "owl = Owl(name='cookie', color='brown', age=4)"
   ]
  },
  {
   "cell_type": "code",
   "execution_count": 23,
   "metadata": {},
   "outputs": [],
   "source": [
    "# Create database connection\n",
    "database_path = 'pets_cafe'\n",
    "engine = create_engine(f'sqlite:///{database_path}')\n"
   ]
  },
  {
   "cell_type": "code",
   "execution_count": 26,
   "metadata": {},
   "outputs": [],
   "source": [
    "# Create a metadata layer for the database\n",
    "Base.metadata.create_all(engine)\n",
    "\n",
    "# # Drop Table\n",
    "# Base.metadata.drop_all(engine)"
   ]
  },
  {
   "cell_type": "code",
   "execution_count": 27,
   "metadata": {},
   "outputs": [],
   "source": [
    "# Create session and add objects\n",
    "from sqlalchemy.orm import Session\n",
    "session = Session(bind=engine)\n",
    "session.add(rabbit)\n",
    "session.add(owl)\n",
    "session.commit() # Only needed when write\n",
    "session.close()"
   ]
  },
  {
   "cell_type": "code",
   "execution_count": 28,
   "metadata": {},
   "outputs": [
    {
     "name": "stdout",
     "output_type": "stream",
     "text": [
      "mimi\n"
     ]
    }
   ],
   "source": [
    "rabbit_ls = session.query(Rabbit)\n",
    "for rab in rabbit_ls:\n",
    "    print(rab.name)"
   ]
  },
  {
   "cell_type": "code",
   "execution_count": null,
   "metadata": {},
   "outputs": [],
   "source": []
  },
  {
   "cell_type": "code",
   "execution_count": 52,
   "metadata": {},
   "outputs": [],
   "source": [
    "# Create Student class\n",
    "class Student():\n",
    "    def __init__(self, name, subject, language):\n",
    "        self.name = name\n",
    "        self.subject = subject\n",
    "        self.language = language   \n",
    "\n",
    "\n",
    "# Create Robot class\n",
    "class Robot():\n",
    "    def __init__(self, name, color):\n",
    "        self.name = \"Robot \" + name\n",
    "        self.color = color\n",
    "        \n",
    "    def greet_student(self, student):\n",
    "        print(f'Hi {student.name}, my name is {self.name}. I am your tutor.')\n",
    "        print(f'I can speak {student.language} too!')\n",
    "\n",
    "\n"
   ]
  },
  {
   "cell_type": "code",
   "execution_count": 53,
   "metadata": {},
   "outputs": [
    {
     "data": {
      "text/plain": [
       "'batman'"
      ]
     },
     "execution_count": 53,
     "metadata": {},
     "output_type": "execute_result"
    }
   ],
   "source": [
    "robot_tutor = Robot('Thor', 'Blue')\n",
    "student_1 = Student('batman', 'math', 'French')\n",
    "student_1.name"
   ]
  },
  {
   "cell_type": "code",
   "execution_count": 54,
   "metadata": {},
   "outputs": [
    {
     "name": "stdout",
     "output_type": "stream",
     "text": [
      "Hi batman, my name is Robot Thor. I am your tutor.\n",
      "I can speak French too!\n"
     ]
    }
   ],
   "source": [
    "robot_tutor.greet_student(student_1)"
   ]
  },
  {
   "cell_type": "code",
   "execution_count": null,
   "metadata": {},
   "outputs": [],
   "source": []
  }
 ],
 "metadata": {
  "kernelspec": {
   "display_name": "Python 3",
   "language": "python",
   "name": "python3"
  },
  "language_info": {
   "codemirror_mode": {
    "name": "ipython",
    "version": 3
   },
   "file_extension": ".py",
   "mimetype": "text/x-python",
   "name": "python",
   "nbconvert_exporter": "python",
   "pygments_lexer": "ipython3",
   "version": "3.7.9"
  }
 },
 "nbformat": 4,
 "nbformat_minor": 4
}
