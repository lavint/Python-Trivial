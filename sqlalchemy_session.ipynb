{
 "cells": [
  {
   "cell_type": "markdown",
   "metadata": {},
   "source": [
    "## Query existing database"
   ]
  },
  {
   "cell_type": "code",
   "execution_count": 1,
   "metadata": {},
   "outputs": [],
   "source": [
    "from sqlalchemy import create_engine\n",
    "import pandas as pd\n",
    "import os"
   ]
  },
  {
   "cell_type": "code",
   "execution_count": 2,
   "metadata": {},
   "outputs": [
    {
     "name": "stdout",
     "output_type": "stream",
     "text": [
      "1.1.3\n"
     ]
    }
   ],
   "source": [
    "print(pd.__version__)"
   ]
  },
  {
   "cell_type": "code",
   "execution_count": 3,
   "metadata": {},
   "outputs": [],
   "source": [
    "database_path = 'Resources/dow.sqlite'\n",
    "engine = create_engine(f'sqlite:///{database_path}')"
   ]
  },
  {
   "cell_type": "code",
   "execution_count": 4,
   "metadata": {},
   "outputs": [
    {
     "name": "stdout",
     "output_type": "stream",
     "text": [
      "<class 'sqlalchemy.engine.result.ResultProxy'>\n",
      "(1, 1, 'AA', '2011-01-07', 15.82, 16.72, 15.78, 16.42, 239655616, None)\n",
      "(2, 1, 'AA', '2011-01-14', 16.71, 16.71, 15.64, 15.97, 242963398, None)\n",
      "(3, 1, 'AA', '2011-01-21', 16.19, 16.38, 15.6, 15.79, 138428495, None)\n",
      "(4, 1, 'AA', '2011-01-28', 15.87, 16.63, 15.82, 16.13, 151379173, None)\n",
      "(5, 1, 'AA', '2011-02-04', 16.18, 17.39, 16.18, 17.14, 154387761, None)\n"
     ]
    }
   ],
   "source": [
    "# method 1\n",
    "data = engine.execute(\"SELECT * FROM dow\")\n",
    "print(type(data))\n",
    "\n",
    "i = 0\n",
    "for r in data:\n",
    "    if i < 5:\n",
    "        print(r)\n",
    "        i += 1"
   ]
  },
  {
   "cell_type": "code",
   "execution_count": 5,
   "metadata": {},
   "outputs": [
    {
     "data": {
      "text/html": [
       "<div>\n",
       "<style scoped>\n",
       "    .dataframe tbody tr th:only-of-type {\n",
       "        vertical-align: middle;\n",
       "    }\n",
       "\n",
       "    .dataframe tbody tr th {\n",
       "        vertical-align: top;\n",
       "    }\n",
       "\n",
       "    .dataframe thead th {\n",
       "        text-align: right;\n",
       "    }\n",
       "</style>\n",
       "<table border=\"1\" class=\"dataframe\">\n",
       "  <thead>\n",
       "    <tr style=\"text-align: right;\">\n",
       "      <th></th>\n",
       "      <th>id</th>\n",
       "      <th>quarter</th>\n",
       "      <th>stock</th>\n",
       "      <th>date</th>\n",
       "      <th>open_price</th>\n",
       "      <th>high_price</th>\n",
       "      <th>low_price</th>\n",
       "      <th>close_price</th>\n",
       "      <th>volume</th>\n",
       "      <th>percent_change</th>\n",
       "    </tr>\n",
       "  </thead>\n",
       "  <tbody>\n",
       "    <tr>\n",
       "      <th>0</th>\n",
       "      <td>1</td>\n",
       "      <td>1</td>\n",
       "      <td>AA</td>\n",
       "      <td>2011-01-07</td>\n",
       "      <td>15.82</td>\n",
       "      <td>16.72</td>\n",
       "      <td>15.78</td>\n",
       "      <td>16.42</td>\n",
       "      <td>239655616</td>\n",
       "      <td>None</td>\n",
       "    </tr>\n",
       "    <tr>\n",
       "      <th>1</th>\n",
       "      <td>2</td>\n",
       "      <td>1</td>\n",
       "      <td>AA</td>\n",
       "      <td>2011-01-14</td>\n",
       "      <td>16.71</td>\n",
       "      <td>16.71</td>\n",
       "      <td>15.64</td>\n",
       "      <td>15.97</td>\n",
       "      <td>242963398</td>\n",
       "      <td>None</td>\n",
       "    </tr>\n",
       "    <tr>\n",
       "      <th>2</th>\n",
       "      <td>3</td>\n",
       "      <td>1</td>\n",
       "      <td>AA</td>\n",
       "      <td>2011-01-21</td>\n",
       "      <td>16.19</td>\n",
       "      <td>16.38</td>\n",
       "      <td>15.60</td>\n",
       "      <td>15.79</td>\n",
       "      <td>138428495</td>\n",
       "      <td>None</td>\n",
       "    </tr>\n",
       "    <tr>\n",
       "      <th>3</th>\n",
       "      <td>4</td>\n",
       "      <td>1</td>\n",
       "      <td>AA</td>\n",
       "      <td>2011-01-28</td>\n",
       "      <td>15.87</td>\n",
       "      <td>16.63</td>\n",
       "      <td>15.82</td>\n",
       "      <td>16.13</td>\n",
       "      <td>151379173</td>\n",
       "      <td>None</td>\n",
       "    </tr>\n",
       "    <tr>\n",
       "      <th>4</th>\n",
       "      <td>5</td>\n",
       "      <td>1</td>\n",
       "      <td>AA</td>\n",
       "      <td>2011-02-04</td>\n",
       "      <td>16.18</td>\n",
       "      <td>17.39</td>\n",
       "      <td>16.18</td>\n",
       "      <td>17.14</td>\n",
       "      <td>154387761</td>\n",
       "      <td>None</td>\n",
       "    </tr>\n",
       "  </tbody>\n",
       "</table>\n",
       "</div>"
      ],
      "text/plain": [
       "   id  quarter stock        date  open_price  high_price  low_price  \\\n",
       "0   1        1    AA  2011-01-07       15.82       16.72      15.78   \n",
       "1   2        1    AA  2011-01-14       16.71       16.71      15.64   \n",
       "2   3        1    AA  2011-01-21       16.19       16.38      15.60   \n",
       "3   4        1    AA  2011-01-28       15.87       16.63      15.82   \n",
       "4   5        1    AA  2011-02-04       16.18       17.39      16.18   \n",
       "\n",
       "   close_price     volume percent_change  \n",
       "0        16.42  239655616           None  \n",
       "1        15.97  242963398           None  \n",
       "2        15.79  138428495           None  \n",
       "3        16.13  151379173           None  \n",
       "4        17.14  154387761           None  "
      ]
     },
     "execution_count": 5,
     "metadata": {},
     "output_type": "execute_result"
    }
   ],
   "source": [
    "# method 2\n",
    "conn = engine.connect()\n",
    "df = pd.read_sql(\"SELECT * FROM dow\", conn)\n",
    "df.head()"
   ]
  },
  {
   "cell_type": "markdown",
   "metadata": {},
   "source": [
    "<br>"
   ]
  },
  {
   "cell_type": "markdown",
   "metadata": {},
   "source": [
    "## Create table"
   ]
  },
  {
   "cell_type": "markdown",
   "metadata": {},
   "source": [
    "##### SQLAlchemy uses Python classes as its primary means to communicate and make changes to SQL databases\n",
    "##### This makes SQLAlchemy an ORM because it uses objects to map changes to SQL tables/databases"
   ]
  },
  {
   "cell_type": "code",
   "execution_count": 6,
   "metadata": {},
   "outputs": [],
   "source": [
    "from sqlalchemy import create_engine\n",
    "from sqlalchemy.ext.declarative import declarative_base\n",
    "Base = declarative_base()\n",
    "from sqlalchemy import Column, Integer, String, Float\n",
    "from sqlalchemy.orm import Session"
   ]
  },
  {
   "cell_type": "code",
   "execution_count": 7,
   "metadata": {},
   "outputs": [],
   "source": [
    "# Create Pet closs (table)\n",
    "class Pet(Base):\n",
    "    __tablename__ = \"pet\"\n",
    "    id = Column(Integer, primary_key=True)\n",
    "    name = Column(String(255))\n",
    "    color = Column(String(255))\n",
    "    kind = Column(String(255))\n",
    "    age = Column(Integer)"
   ]
  },
  {
   "cell_type": "code",
   "execution_count": 8,
   "metadata": {},
   "outputs": [],
   "source": [
    "# Create Robot class (table)\n",
    "class Robot(Base):\n",
    "    __tablename__ = \"robot\"\n",
    "    id = Column(Integer, primary_key=True)\n",
    "    name = Column(String(255))\n",
    "    origin = Column(String(255))\n"
   ]
  },
  {
   "cell_type": "code",
   "execution_count": 9,
   "metadata": {},
   "outputs": [],
   "source": [
    "# Create database connection\n",
    "database_path = 'Resources/pets_cafe.db'\n",
    "engine = create_engine(f'sqlite:///{database_path}')\n"
   ]
  },
  {
   "cell_type": "code",
   "execution_count": 10,
   "metadata": {},
   "outputs": [],
   "source": [
    "# Drop Table if exists\n",
    "if os.path.exists(database_path):\n",
    "    Base.metadata.drop_all(engine)\n",
    "\n",
    "# Create Pet table and Robot table in the database\n",
    "Base.metadata.create_all(engine)\n"
   ]
  },
  {
   "cell_type": "code",
   "execution_count": 11,
   "metadata": {},
   "outputs": [],
   "source": [
    "# Create instances for each class\n",
    "rabbit = Pet(name='mimi', color='white', kind='rabbit', age=2)\n",
    "rabbit2 = Pet(name='lucy', color='pink', kind='rabbit', age=1)\n",
    "cat = Pet(name='sandy', color='white', kind='cat', age=6)\n",
    "cat2 = Pet(name='poker', color='black', kind='cat', age=3)\n",
    "cat3  = Pet(name='sunshine', color='white', kind='cat', age=2)\n",
    "owl = Pet(name='cookie', color='brown', kind='owl', age=4)\n",
    "robot = Robot(name='guy', origin='Spain')"
   ]
  },
  {
   "cell_type": "code",
   "execution_count": 12,
   "metadata": {},
   "outputs": [],
   "source": [
    "# Create session\n",
    "session = Session(bind=engine)"
   ]
  },
  {
   "cell_type": "code",
   "execution_count": 13,
   "metadata": {},
   "outputs": [],
   "source": [
    "# Add objects\n",
    "# Queue up the queries\n",
    "session.add(rabbit)\n",
    "session.add(rabbit2)\n",
    "session.add(cat)\n",
    "session.add(cat2)\n",
    "session.add(cat3)\n",
    "session.add(owl)\n",
    "session.add(robot)"
   ]
  },
  {
   "cell_type": "code",
   "execution_count": 14,
   "metadata": {},
   "outputs": [
    {
     "data": {
      "text/plain": [
       "IdentitySet([<__main__.Pet object at 0x0000024C6B323D88>, <__main__.Pet object at 0x0000024C6ED8C388>, <__main__.Pet object at 0x0000024C6ED8CCC8>, <__main__.Pet object at 0x0000024C6ED8CA08>, <__main__.Pet object at 0x0000024C6ED8CDC8>, <__main__.Pet object at 0x0000024C6ED8CE48>, <__main__.Robot object at 0x0000024C6ED8CEC8>])"
      ]
     },
     "execution_count": 14,
     "metadata": {},
     "output_type": "execute_result"
    }
   ],
   "source": [
    "# Check queue and see which data is ready to go into the database\n",
    "session.new"
   ]
  },
  {
   "cell_type": "code",
   "execution_count": 15,
   "metadata": {},
   "outputs": [],
   "source": [
    "# commit() flushes whatever remaining changes remain to the database\n",
    "# and commits the transaction\n",
    "session.commit()\n"
   ]
  },
  {
   "cell_type": "code",
   "execution_count": 16,
   "metadata": {},
   "outputs": [
    {
     "data": {
      "text/plain": [
       "IdentitySet([])"
      ]
     },
     "execution_count": 16,
     "metadata": {},
     "output_type": "execute_result"
    }
   ],
   "source": [
    "# Check queue again\n",
    "session.new"
   ]
  },
  {
   "cell_type": "code",
   "execution_count": 17,
   "metadata": {},
   "outputs": [
    {
     "data": {
      "text/plain": [
       "immutabledict({'pet': Table('pet', MetaData(bind=None), Column('id', Integer(), table=<pet>, primary_key=True, nullable=False), Column('name', String(length=255), table=<pet>), Column('color', String(length=255), table=<pet>), Column('kind', String(length=255), table=<pet>), Column('age', Integer(), table=<pet>), schema=None), 'robot': Table('robot', MetaData(bind=None), Column('id', Integer(), table=<robot>, primary_key=True, nullable=False), Column('name', String(length=255), table=<robot>), Column('origin', String(length=255), table=<robot>), schema=None)})"
      ]
     },
     "execution_count": 17,
     "metadata": {},
     "output_type": "execute_result"
    }
   ],
   "source": [
    "# Check tables\n",
    "Base.metadata.tables"
   ]
  },
  {
   "cell_type": "markdown",
   "metadata": {},
   "source": [
    "<br>"
   ]
  },
  {
   "cell_type": "markdown",
   "metadata": {},
   "source": [
    "## Query table"
   ]
  },
  {
   "cell_type": "code",
   "execution_count": 18,
   "metadata": {},
   "outputs": [
    {
     "name": "stdout",
     "output_type": "stream",
     "text": [
      "mimi\n",
      "lucy\n",
      "sandy\n",
      "poker\n",
      "sunshine\n",
      "cookie\n"
     ]
    }
   ],
   "source": [
    "# Query all items\n",
    "# method 1\n",
    "pets = session.query(Pet)\n",
    "for p in pets:\n",
    "    print(p.name)"
   ]
  },
  {
   "cell_type": "code",
   "execution_count": 19,
   "metadata": {},
   "outputs": [
    {
     "data": {
      "text/plain": [
       "[('mimi', 'rabbit', 'white', 2),\n",
       " ('lucy', 'rabbit', 'pink', 1),\n",
       " ('sandy', 'cat', 'white', 6),\n",
       " ('poker', 'cat', 'black', 3),\n",
       " ('sunshine', 'cat', 'white', 2),\n",
       " ('cookie', 'owl', 'brown', 4)]"
      ]
     },
     "execution_count": 19,
     "metadata": {},
     "output_type": "execute_result"
    }
   ],
   "source": [
    "# method 2\n",
    "session.query(Pet.name, Pet.kind, Pet.color, Pet.age).all()"
   ]
  },
  {
   "cell_type": "code",
   "execution_count": 20,
   "metadata": {},
   "outputs": [
    {
     "data": {
      "text/plain": [
       "3"
      ]
     },
     "execution_count": 20,
     "metadata": {},
     "output_type": "execute_result"
    }
   ],
   "source": [
    "cat_count = session.query(Pet).filter_by(kind='cat').count()\n",
    "cat_count"
   ]
  },
  {
   "cell_type": "code",
   "execution_count": 21,
   "metadata": {},
   "outputs": [
    {
     "data": {
      "text/plain": [
       "2"
      ]
     },
     "execution_count": 21,
     "metadata": {},
     "output_type": "execute_result"
    }
   ],
   "source": [
    "# More than 1 filter condition\n",
    "\n",
    "# method 1\n",
    "white_cat = session.query(Pet).filter_by(kind='cat', color='white')\n",
    "white_cat.count()"
   ]
  },
  {
   "cell_type": "code",
   "execution_count": 22,
   "metadata": {},
   "outputs": [
    {
     "data": {
      "text/plain": [
       "2"
      ]
     },
     "execution_count": 22,
     "metadata": {},
     "output_type": "execute_result"
    }
   ],
   "source": [
    "# method 2\n",
    "white_cat = session.query(Pet.name, Pet.color).filter((Pet.kind=='cat') & (Pet.color=='white'))\n",
    "white_cat.count()"
   ]
  },
  {
   "cell_type": "code",
   "execution_count": 23,
   "metadata": {},
   "outputs": [
    {
     "data": {
      "text/plain": [
       "sqlalchemy.orm.query.Query"
      ]
     },
     "execution_count": 23,
     "metadata": {},
     "output_type": "execute_result"
    }
   ],
   "source": [
    "type(white_cat)"
   ]
  },
  {
   "cell_type": "code",
   "execution_count": 24,
   "metadata": {},
   "outputs": [
    {
     "name": "stdout",
     "output_type": "stream",
     "text": [
      "('sandy', 'white')\n",
      "('sunshine', 'white')\n"
     ]
    }
   ],
   "source": [
    "for row in white_cat.all():\n",
    "    print(row)"
   ]
  },
  {
   "cell_type": "code",
   "execution_count": 25,
   "metadata": {},
   "outputs": [
    {
     "data": {
      "text/plain": [
       "3"
      ]
     },
     "execution_count": 25,
     "metadata": {},
     "output_type": "execute_result"
    }
   ],
   "source": [
    "# How many types of pet\n",
    "by_kind = session.query(Pet).group_by(Pet.kind)\n",
    "by_kind.count()"
   ]
  },
  {
   "cell_type": "markdown",
   "metadata": {},
   "source": [
    "## Update data"
   ]
  },
  {
   "cell_type": "code",
   "execution_count": 26,
   "metadata": {},
   "outputs": [
    {
     "name": "stdout",
     "output_type": "stream",
     "text": [
      "4\n",
      "5\n"
     ]
    }
   ],
   "source": [
    "older_owl = session.query(Pet).filter_by(kind='owl').first()\n",
    "print(older_owl.age)\n",
    "older_owl.age += 1\n",
    "print(older_owl.age)\n"
   ]
  },
  {
   "cell_type": "code",
   "execution_count": 27,
   "metadata": {},
   "outputs": [
    {
     "data": {
      "text/plain": [
       "IdentitySet([<__main__.Pet object at 0x0000024C6ED8CE48>])"
      ]
     },
     "execution_count": 27,
     "metadata": {},
     "output_type": "execute_result"
    }
   ],
   "source": [
    "# Check queue and see which data is ready to be updated\n",
    "session.dirty"
   ]
  },
  {
   "cell_type": "code",
   "execution_count": 28,
   "metadata": {},
   "outputs": [],
   "source": [
    "session.commit()"
   ]
  },
  {
   "cell_type": "code",
   "execution_count": 29,
   "metadata": {},
   "outputs": [
    {
     "data": {
      "text/plain": [
       "IdentitySet([])"
      ]
     },
     "execution_count": 29,
     "metadata": {},
     "output_type": "execute_result"
    }
   ],
   "source": [
    "session.dirty"
   ]
  },
  {
   "cell_type": "code",
   "execution_count": 30,
   "metadata": {},
   "outputs": [
    {
     "data": {
      "text/plain": [
       "[('mimi', 'white', 'rabbit', 2),\n",
       " ('lucy', 'pink', 'rabbit', 1),\n",
       " ('sandy', 'white', 'cat', 6),\n",
       " ('poker', 'black', 'cat', 3),\n",
       " ('sunshine', 'white', 'cat', 2),\n",
       " ('cookie', 'brown', 'owl', 5)]"
      ]
     },
     "execution_count": 30,
     "metadata": {},
     "output_type": "execute_result"
    }
   ],
   "source": [
    "session.query(Pet.name, Pet.color, Pet.kind, Pet.age).all()"
   ]
  },
  {
   "cell_type": "markdown",
   "metadata": {},
   "source": [
    "<br>"
   ]
  },
  {
   "cell_type": "markdown",
   "metadata": {},
   "source": [
    "<br>"
   ]
  },
  {
   "cell_type": "markdown",
   "metadata": {},
   "source": [
    "## Delete Data"
   ]
  },
  {
   "cell_type": "code",
   "execution_count": 31,
   "metadata": {},
   "outputs": [
    {
     "data": {
      "text/plain": [
       "<__main__.Pet at 0x24c6ed8ca08>"
      ]
     },
     "execution_count": 31,
     "metadata": {},
     "output_type": "execute_result"
    }
   ],
   "source": [
    "# Delete one black cat\n",
    "black_cat = session.query(Pet).filter_by(kind='cat', color='black').one()\n",
    "black_cat"
   ]
  },
  {
   "cell_type": "code",
   "execution_count": 32,
   "metadata": {},
   "outputs": [],
   "source": [
    "session.delete(black_cat)"
   ]
  },
  {
   "cell_type": "code",
   "execution_count": 33,
   "metadata": {},
   "outputs": [
    {
     "data": {
      "text/plain": [
       "IdentitySet([<__main__.Pet object at 0x0000024C6ED8CA08>])"
      ]
     },
     "execution_count": 33,
     "metadata": {},
     "output_type": "execute_result"
    }
   ],
   "source": [
    "# Check queue and see which data is ready to be deleted\n",
    "session.deleted"
   ]
  },
  {
   "cell_type": "code",
   "execution_count": 34,
   "metadata": {},
   "outputs": [],
   "source": [
    "session.commit()"
   ]
  },
  {
   "cell_type": "code",
   "execution_count": 35,
   "metadata": {},
   "outputs": [
    {
     "data": {
      "text/plain": [
       "IdentitySet([])"
      ]
     },
     "execution_count": 35,
     "metadata": {},
     "output_type": "execute_result"
    }
   ],
   "source": [
    "session.deleted"
   ]
  },
  {
   "cell_type": "code",
   "execution_count": 36,
   "metadata": {},
   "outputs": [
    {
     "data": {
      "text/plain": [
       "[('mimi', 'white', 'rabbit', 2),\n",
       " ('lucy', 'pink', 'rabbit', 1),\n",
       " ('sandy', 'white', 'cat', 6),\n",
       " ('sunshine', 'white', 'cat', 2),\n",
       " ('cookie', 'brown', 'owl', 5)]"
      ]
     },
     "execution_count": 36,
     "metadata": {},
     "output_type": "execute_result"
    }
   ],
   "source": [
    "session.query(Pet.name, Pet.color, Pet.kind, Pet.age).all()"
   ]
  },
  {
   "cell_type": "code",
   "execution_count": 37,
   "metadata": {},
   "outputs": [
    {
     "data": {
      "text/plain": [
       "[('mimi', 'white', 'rabbit', 2),\n",
       " ('lucy', 'pink', 'rabbit', 1),\n",
       " ('cookie', 'brown', 'owl', 5)]"
      ]
     },
     "execution_count": 37,
     "metadata": {},
     "output_type": "execute_result"
    }
   ],
   "source": [
    "# Delete all white cats\n",
    "session.query(Pet).filter_by(kind='cat', color='white').delete()\n",
    "session.commit()\n",
    "\n",
    "\n",
    "session.query(Pet.name, Pet.color, Pet.kind, Pet.age).all()"
   ]
  },
  {
   "cell_type": "code",
   "execution_count": 38,
   "metadata": {},
   "outputs": [
    {
     "data": {
      "text/plain": [
       "'lucy'"
      ]
     },
     "execution_count": 38,
     "metadata": {},
     "output_type": "execute_result"
    }
   ],
   "source": [
    "youngest = session.query(Pet).order_by(Pet.age).first()\n",
    "youngest.name"
   ]
  },
  {
   "cell_type": "code",
   "execution_count": 39,
   "metadata": {},
   "outputs": [],
   "source": [
    "# Close session\n",
    "session.close()"
   ]
  },
  {
   "cell_type": "markdown",
   "metadata": {},
   "source": [
    "<br>"
   ]
  },
  {
   "cell_type": "markdown",
   "metadata": {},
   "source": [
    "## Reflection of existing database"
   ]
  },
  {
   "cell_type": "markdown",
   "metadata": {},
   "source": [
    "#### To automatically create Object Relationship Mapping classes from an exisiting databse"
   ]
  },
  {
   "cell_type": "code",
   "execution_count": 40,
   "metadata": {},
   "outputs": [],
   "source": [
    "from sqlalchemy import create_engine, inspect, func\n",
    "from sqlalchemy.ext.automap import automap_base\n",
    "from sqlalchemy.orm import Session"
   ]
  },
  {
   "cell_type": "code",
   "execution_count": 41,
   "metadata": {},
   "outputs": [
    {
     "data": {
      "text/plain": [
       "['dow']"
      ]
     },
     "execution_count": 41,
     "metadata": {},
     "output_type": "execute_result"
    }
   ],
   "source": [
    "engine = create_engine(f'sqlite:///Resources/dow.sqlite')\n",
    "Base = automap_base()\n",
    "\n",
    "# Use Base class to reflect database tables\n",
    "Base.prepare(engine, reflect=True)\n",
    "\n",
    "# Print all classes (tables) mapped to Base\n",
    "Base.classes.keys()"
   ]
  },
  {
   "cell_type": "code",
   "execution_count": 42,
   "metadata": {},
   "outputs": [],
   "source": [
    "# Assign dow class to Dow\n",
    "Dow = Base.classes.dow"
   ]
  },
  {
   "cell_type": "code",
   "execution_count": 43,
   "metadata": {},
   "outputs": [
    {
     "data": {
      "text/plain": [
       "<sqlalchemy.ext.automap.dow at 0x24c6ee10bc8>"
      ]
     },
     "execution_count": 43,
     "metadata": {},
     "output_type": "execute_result"
    }
   ],
   "source": [
    "session = Session(engine)\n",
    "\n",
    "first_dow = session.query(Dow).first()\n",
    "first_dow"
   ]
  },
  {
   "cell_type": "code",
   "execution_count": 44,
   "metadata": {},
   "outputs": [
    {
     "data": {
      "text/plain": [
       "{'_sa_instance_state': <sqlalchemy.orm.state.InstanceState at 0x24c6ee10f48>,\n",
       " 'quarter': 1,\n",
       " 'date': '2011-01-07',\n",
       " 'high_price': 16.72,\n",
       " 'close_price': 16.42,\n",
       " 'percent_change': None,\n",
       " 'stock': 'AA',\n",
       " 'id': 1,\n",
       " 'open_price': 15.82,\n",
       " 'low_price': 15.78,\n",
       " 'volume': 239655616}"
      ]
     },
     "execution_count": 44,
     "metadata": {},
     "output_type": "execute_result"
    }
   ],
   "source": [
    "# Show columns and data in dictionary format\n",
    "first_dow.__dict__"
   ]
  },
  {
   "cell_type": "markdown",
   "metadata": {},
   "source": [
    "<br>\n",
    "\n",
    "#### Query Dow Table"
   ]
  },
  {
   "cell_type": "code",
   "execution_count": 45,
   "metadata": {},
   "outputs": [
    {
     "data": {
      "text/plain": [
       "[('AA', 16.42), ('AA', 15.97), ('AA', 15.79), ('AA', 16.13), ('AA', 17.14)]"
      ]
     },
     "execution_count": 45,
     "metadata": {},
     "output_type": "execute_result"
    }
   ],
   "source": [
    "# First 5 close prices only\n",
    "session.query(Dow.stock, Dow.close_price).limit(5).all()"
   ]
  },
  {
   "cell_type": "code",
   "execution_count": 46,
   "metadata": {},
   "outputs": [
    {
     "name": "stdout",
     "output_type": "stream",
     "text": [
      "('AA', 16.42)\n",
      "('AA', 15.97)\n",
      "('AA', 15.79)\n",
      "('AA', 16.13)\n",
      "('AA', 17.14)\n"
     ]
    }
   ],
   "source": [
    "# First 5 close prices only\n",
    "for row in session.query(Dow.stock, Dow.close_price).limit(5).all():\n",
    "    print(row)"
   ]
  },
  {
   "cell_type": "code",
   "execution_count": 47,
   "metadata": {},
   "outputs": [
    {
     "data": {
      "text/plain": [
       "[(750)]"
      ]
     },
     "execution_count": 47,
     "metadata": {},
     "output_type": "execute_result"
    }
   ],
   "source": [
    "# Total number of dates\n",
    "session.query(func.count(Dow.date)).all()"
   ]
  },
  {
   "cell_type": "code",
   "execution_count": 48,
   "metadata": {},
   "outputs": [
    {
     "data": {
      "text/plain": [
       "('2011-06-24')"
      ]
     },
     "execution_count": 48,
     "metadata": {},
     "output_type": "execute_result"
    }
   ],
   "source": [
    "# The last date in the data\n",
    "session.query(Dow.date).order_by(Dow.date.desc()).first()"
   ]
  },
  {
   "cell_type": "code",
   "execution_count": 49,
   "metadata": {},
   "outputs": [
    {
     "data": {
      "text/plain": [
       "120"
      ]
     },
     "execution_count": 49,
     "metadata": {},
     "output_type": "execute_result"
    }
   ],
   "source": [
    "# Number of dates that are greater than June 1 2011\n",
    "len(session.query(Dow.date).filter(Dow.date > '2011-06-01').\\\n",
    "                        order_by(Dow.date).all())"
   ]
  },
  {
   "cell_type": "markdown",
   "metadata": {},
   "source": [
    "<br>\n",
    "\n",
    "#### Use datetime format in SQLAlchemy (Sqlite doesn't support a data column type)"
   ]
  },
  {
   "cell_type": "code",
   "execution_count": 50,
   "metadata": {},
   "outputs": [
    {
     "data": {
      "text/plain": [
       "datetime.date(2020, 12, 6)"
      ]
     },
     "execution_count": 50,
     "metadata": {},
     "output_type": "execute_result"
    }
   ],
   "source": [
    "import datetime as dt\n",
    "\n",
    "dt.date.today()"
   ]
  },
  {
   "cell_type": "code",
   "execution_count": 51,
   "metadata": {},
   "outputs": [
    {
     "name": "stdout",
     "output_type": "stream",
     "text": [
      "2020-12-06\n",
      "2020-12-05 00:00:00\n",
      "2020-11-29\n",
      "12\n"
     ]
    }
   ],
   "source": [
    "print(dt.date.today())\n",
    "print(dt.datetime(2020,12,5))\n",
    "\n",
    "# 1 week before today\n",
    "print(dt.date.today() - dt.timedelta(weeks=1))\n",
    "\n",
    "# Parse month from date\n",
    "print(dt.date.today().strftime('%m'))"
   ]
  },
  {
   "cell_type": "code",
   "execution_count": 52,
   "metadata": {},
   "outputs": [
    {
     "data": {
      "text/plain": [
       "120"
      ]
     },
     "execution_count": 52,
     "metadata": {},
     "output_type": "execute_result"
    }
   ],
   "source": [
    "june = '06'\n",
    "len(session.query(Dow.date).filter(func.strftime('%m', Dow.date) == june).all())"
   ]
  },
  {
   "cell_type": "code",
   "execution_count": 53,
   "metadata": {},
   "outputs": [],
   "source": [
    "session.close()"
   ]
  },
  {
   "cell_type": "markdown",
   "metadata": {},
   "source": [
    "<br>"
   ]
  },
  {
   "cell_type": "markdown",
   "metadata": {},
   "source": [
    "## Read query into Pandas DataFrame"
   ]
  },
  {
   "cell_type": "code",
   "execution_count": 54,
   "metadata": {},
   "outputs": [
    {
     "data": {
      "text/plain": [
       "[('BAC', 1453438639),\n",
       " ('BAC', 1054415375),\n",
       " ('CSCO', 1000362015),\n",
       " ('BAC', 982445809),\n",
       " ('BAC', 889460755),\n",
       " ('BAC', 873241317),\n",
       " ('BAC', 805210688),\n",
       " ('BAC', 792380862),\n",
       " ('BAC', 760935694),\n",
       " ('BAC', 757192224)]"
      ]
     },
     "execution_count": 54,
     "metadata": {},
     "output_type": "execute_result"
    }
   ],
   "source": [
    "# method 1: query-> top10 -> list-> df\n",
    "\n",
    "# Top 10 stocks with highest volume\n",
    "top10vol = session.query(Dow.stock, Dow.volume).order_by(Dow.volume.desc()).all()[:10]\n",
    "top10vol"
   ]
  },
  {
   "cell_type": "code",
   "execution_count": 55,
   "metadata": {},
   "outputs": [
    {
     "name": "stdout",
     "output_type": "stream",
     "text": [
      "['BAC', 'BAC', 'CSCO', 'BAC', 'BAC', 'BAC', 'BAC', 'BAC', 'BAC', 'BAC']\n",
      "[1453438639, 1054415375, 1000362015, 982445809, 889460755, 873241317, 805210688, 792380862, 760935694, 757192224]\n"
     ]
    }
   ],
   "source": [
    "# unpack tuples using list comprehension\n",
    "tickers = [t[0] for t in top10vol]\n",
    "print(tickers)\n",
    "vols = [int(t[1]) for t in top10vol]\n",
    "print(vols)"
   ]
  },
  {
   "cell_type": "code",
   "execution_count": 56,
   "metadata": {},
   "outputs": [
    {
     "data": {
      "text/html": [
       "<div>\n",
       "<style scoped>\n",
       "    .dataframe tbody tr th:only-of-type {\n",
       "        vertical-align: middle;\n",
       "    }\n",
       "\n",
       "    .dataframe tbody tr th {\n",
       "        vertical-align: top;\n",
       "    }\n",
       "\n",
       "    .dataframe thead th {\n",
       "        text-align: right;\n",
       "    }\n",
       "</style>\n",
       "<table border=\"1\" class=\"dataframe\">\n",
       "  <thead>\n",
       "    <tr style=\"text-align: right;\">\n",
       "      <th></th>\n",
       "      <th>tic</th>\n",
       "      <th>vol</th>\n",
       "    </tr>\n",
       "  </thead>\n",
       "  <tbody>\n",
       "    <tr>\n",
       "      <th>0</th>\n",
       "      <td>BAC</td>\n",
       "      <td>1453438639</td>\n",
       "    </tr>\n",
       "    <tr>\n",
       "      <th>1</th>\n",
       "      <td>BAC</td>\n",
       "      <td>1054415375</td>\n",
       "    </tr>\n",
       "    <tr>\n",
       "      <th>2</th>\n",
       "      <td>CSCO</td>\n",
       "      <td>1000362015</td>\n",
       "    </tr>\n",
       "    <tr>\n",
       "      <th>3</th>\n",
       "      <td>BAC</td>\n",
       "      <td>982445809</td>\n",
       "    </tr>\n",
       "    <tr>\n",
       "      <th>4</th>\n",
       "      <td>BAC</td>\n",
       "      <td>889460755</td>\n",
       "    </tr>\n",
       "    <tr>\n",
       "      <th>5</th>\n",
       "      <td>BAC</td>\n",
       "      <td>873241317</td>\n",
       "    </tr>\n",
       "    <tr>\n",
       "      <th>6</th>\n",
       "      <td>BAC</td>\n",
       "      <td>805210688</td>\n",
       "    </tr>\n",
       "    <tr>\n",
       "      <th>7</th>\n",
       "      <td>BAC</td>\n",
       "      <td>792380862</td>\n",
       "    </tr>\n",
       "    <tr>\n",
       "      <th>8</th>\n",
       "      <td>BAC</td>\n",
       "      <td>760935694</td>\n",
       "    </tr>\n",
       "    <tr>\n",
       "      <th>9</th>\n",
       "      <td>BAC</td>\n",
       "      <td>757192224</td>\n",
       "    </tr>\n",
       "  </tbody>\n",
       "</table>\n",
       "</div>"
      ],
      "text/plain": [
       "    tic         vol\n",
       "0   BAC  1453438639\n",
       "1   BAC  1054415375\n",
       "2  CSCO  1000362015\n",
       "3   BAC   982445809\n",
       "4   BAC   889460755\n",
       "5   BAC   873241317\n",
       "6   BAC   805210688\n",
       "7   BAC   792380862\n",
       "8   BAC   760935694\n",
       "9   BAC   757192224"
      ]
     },
     "execution_count": 56,
     "metadata": {},
     "output_type": "execute_result"
    }
   ],
   "source": [
    "# Put into dataframe\n",
    "df = pd.DataFrame(top10vol, columns=['tic', 'vol'])\n",
    "df"
   ]
  },
  {
   "cell_type": "code",
   "execution_count": 57,
   "metadata": {},
   "outputs": [
    {
     "data": {
      "text/html": [
       "<div>\n",
       "<style scoped>\n",
       "    .dataframe tbody tr th:only-of-type {\n",
       "        vertical-align: middle;\n",
       "    }\n",
       "\n",
       "    .dataframe tbody tr th {\n",
       "        vertical-align: top;\n",
       "    }\n",
       "\n",
       "    .dataframe thead th {\n",
       "        text-align: right;\n",
       "    }\n",
       "</style>\n",
       "<table border=\"1\" class=\"dataframe\">\n",
       "  <thead>\n",
       "    <tr style=\"text-align: right;\">\n",
       "      <th></th>\n",
       "      <th>tic</th>\n",
       "      <th>vol</th>\n",
       "    </tr>\n",
       "  </thead>\n",
       "  <tbody>\n",
       "    <tr>\n",
       "      <th>9</th>\n",
       "      <td>BAC</td>\n",
       "      <td>757192224</td>\n",
       "    </tr>\n",
       "    <tr>\n",
       "      <th>8</th>\n",
       "      <td>BAC</td>\n",
       "      <td>760935694</td>\n",
       "    </tr>\n",
       "    <tr>\n",
       "      <th>7</th>\n",
       "      <td>BAC</td>\n",
       "      <td>792380862</td>\n",
       "    </tr>\n",
       "    <tr>\n",
       "      <th>6</th>\n",
       "      <td>BAC</td>\n",
       "      <td>805210688</td>\n",
       "    </tr>\n",
       "    <tr>\n",
       "      <th>5</th>\n",
       "      <td>BAC</td>\n",
       "      <td>873241317</td>\n",
       "    </tr>\n",
       "  </tbody>\n",
       "</table>\n",
       "</div>"
      ],
      "text/plain": [
       "   tic        vol\n",
       "9  BAC  757192224\n",
       "8  BAC  760935694\n",
       "7  BAC  792380862\n",
       "6  BAC  805210688\n",
       "5  BAC  873241317"
      ]
     },
     "execution_count": 57,
     "metadata": {},
     "output_type": "execute_result"
    }
   ],
   "source": [
    "# Reverse order in df\n",
    "df.iloc[::-1][:5]"
   ]
  },
  {
   "cell_type": "code",
   "execution_count": 58,
   "metadata": {},
   "outputs": [
    {
     "data": {
      "text/html": [
       "<div>\n",
       "<style scoped>\n",
       "    .dataframe tbody tr th:only-of-type {\n",
       "        vertical-align: middle;\n",
       "    }\n",
       "\n",
       "    .dataframe tbody tr th {\n",
       "        vertical-align: top;\n",
       "    }\n",
       "\n",
       "    .dataframe thead th {\n",
       "        text-align: right;\n",
       "    }\n",
       "</style>\n",
       "<table border=\"1\" class=\"dataframe\">\n",
       "  <thead>\n",
       "    <tr style=\"text-align: right;\">\n",
       "      <th></th>\n",
       "      <th>stock</th>\n",
       "      <th>volume</th>\n",
       "    </tr>\n",
       "  </thead>\n",
       "  <tbody>\n",
       "    <tr>\n",
       "      <th>0</th>\n",
       "      <td>BAC</td>\n",
       "      <td>1453438639</td>\n",
       "    </tr>\n",
       "    <tr>\n",
       "      <th>1</th>\n",
       "      <td>BAC</td>\n",
       "      <td>1054415375</td>\n",
       "    </tr>\n",
       "    <tr>\n",
       "      <th>2</th>\n",
       "      <td>CSCO</td>\n",
       "      <td>1000362015</td>\n",
       "    </tr>\n",
       "    <tr>\n",
       "      <th>3</th>\n",
       "      <td>BAC</td>\n",
       "      <td>982445809</td>\n",
       "    </tr>\n",
       "    <tr>\n",
       "      <th>4</th>\n",
       "      <td>BAC</td>\n",
       "      <td>889460755</td>\n",
       "    </tr>\n",
       "    <tr>\n",
       "      <th>5</th>\n",
       "      <td>BAC</td>\n",
       "      <td>873241317</td>\n",
       "    </tr>\n",
       "    <tr>\n",
       "      <th>6</th>\n",
       "      <td>BAC</td>\n",
       "      <td>805210688</td>\n",
       "    </tr>\n",
       "    <tr>\n",
       "      <th>7</th>\n",
       "      <td>BAC</td>\n",
       "      <td>792380862</td>\n",
       "    </tr>\n",
       "    <tr>\n",
       "      <th>8</th>\n",
       "      <td>BAC</td>\n",
       "      <td>760935694</td>\n",
       "    </tr>\n",
       "    <tr>\n",
       "      <th>9</th>\n",
       "      <td>BAC</td>\n",
       "      <td>757192224</td>\n",
       "    </tr>\n",
       "  </tbody>\n",
       "</table>\n",
       "</div>"
      ],
      "text/plain": [
       "  stock      volume\n",
       "0   BAC  1453438639\n",
       "1   BAC  1054415375\n",
       "2  CSCO  1000362015\n",
       "3   BAC   982445809\n",
       "4   BAC   889460755\n",
       "5   BAC   873241317\n",
       "6   BAC   805210688\n",
       "7   BAC   792380862\n",
       "8   BAC   760935694\n",
       "9   BAC   757192224"
      ]
     },
     "execution_count": 58,
     "metadata": {},
     "output_type": "execute_result"
    }
   ],
   "source": [
    "# method 2: query-> df -> top10\n",
    "\n",
    "stmt = session.query(Dow.stock, Dow.volume).order_by(Dow.volume.desc()).statement\n",
    "df2 = pd.read_sql_query(stmt, session.bind)\n",
    "\n",
    "session.close()\n",
    "df2.head(10)"
   ]
  },
  {
   "cell_type": "markdown",
   "metadata": {},
   "source": [
    "<br>"
   ]
  },
  {
   "cell_type": "markdown",
   "metadata": {},
   "source": [
    "## Inspector Tool"
   ]
  },
  {
   "cell_type": "code",
   "execution_count": 59,
   "metadata": {},
   "outputs": [
    {
     "data": {
      "text/plain": [
       "['dow']"
      ]
     },
     "execution_count": 59,
     "metadata": {},
     "output_type": "execute_result"
    }
   ],
   "source": [
    "# Create inspector object\n",
    "inspector = inspect(engine)\n",
    "\n",
    "# Get the table names from a database\n",
    "inspector.get_table_names()"
   ]
  },
  {
   "cell_type": "code",
   "execution_count": 60,
   "metadata": {},
   "outputs": [
    {
     "name": "stdout",
     "output_type": "stream",
     "text": [
      "id INTEGER\n",
      "quarter INTEGER\n",
      "stock TEXT\n",
      "date TEXT\n",
      "open_price FLOAT\n",
      "high_price FLOAT\n",
      "low_price FLOAT\n",
      "close_price FLOAT\n",
      "volume INTEGER\n",
      "percent_change FLOAT\n"
     ]
    }
   ],
   "source": [
    "# print column names and types\n",
    "cols = inspector.get_columns('dow')\n",
    "for col in cols:\n",
    "    print(col['name'], col['type'])"
   ]
  },
  {
   "cell_type": "markdown",
   "metadata": {},
   "source": [
    "<br>"
   ]
  },
  {
   "cell_type": "markdown",
   "metadata": {},
   "source": [
    "## Join Tables"
   ]
  },
  {
   "cell_type": "code",
   "execution_count": 61,
   "metadata": {},
   "outputs": [],
   "source": [
    "from sqlalchemy import create_engine\n",
    "from sqlalchemy.ext.declarative import declarative_base\n",
    "Base = declarative_base()\n",
    "from sqlalchemy import Column, Integer, String, Float\n",
    "from sqlalchemy.orm import Session\n",
    "\n",
    "class Continent(Base):\n",
    "    __tablename__ = \"continent\"\n",
    "    id = Column(Integer, primary_key=True)\n",
    "    name = Column(String)\n",
    "    country = Column(String)\n",
    "\n",
    "class Country(Base):\n",
    "    __tablename__ = \"country\"\n",
    "    id = Column(Integer, primary_key=True)\n",
    "    name = Column(String)\n",
    "    capital = Column(String)\n",
    "\n",
    "database_path = 'Resources/geo.sqlite'\n",
    "engine = create_engine(f'sqlite:///{database_path}')\n",
    "\n",
    "if os.path.exists(database_path):\n",
    "    Base.metadata.drop_all(engine)\n",
    "    \n",
    "# Create Continent and Country table in the database\n",
    "Base.metadata.create_all(engine)\n",
    "\n",
    "# Create sessions\n",
    "session = Session(bind=engine)\n",
    "\n",
    "# Add data\n",
    "session.add(Continent(name='Europe', country='Spain'))\n",
    "session.add(Continent(name='Europe', country='Italy'))\n",
    "session.add(Continent(name='Asia', country='Japan'))\n",
    "session.add(Continent(name='Africa', country='Egypt'))\n",
    "session.add(Country(name='Spain', capital='Madrid'))\n",
    "session.add(Country(name='Italy', capital='Rome'))\n",
    "session.add(Country(name='Japan', capital='Tokyo'))\n",
    "session.add(Country(name='Egypt', capital='Cairo'))\n",
    "session.commit()\n"
   ]
  },
  {
   "cell_type": "code",
   "execution_count": 62,
   "metadata": {},
   "outputs": [
    {
     "name": "stdout",
     "output_type": "stream",
     "text": [
      "Europe Spain Madrid\n",
      "Europe Italy Rome\n",
      "Asia Japan Tokyo\n",
      "Africa Egypt Cairo\n",
      "---------------\n",
      "Spain is in Europe and its captial is Madrid\n",
      "Italy is in Europe and its captial is Rome\n",
      "Japan is in Asia and its captial is Tokyo\n",
      "Egypt is in Africa and its captial is Cairo\n"
     ]
    }
   ],
   "source": [
    "# Join tables method 1:\n",
    "join1 = session.query(Continent, Country).filter(Continent.country == Country.name).limit(5).all()\n",
    "for row in join1:\n",
    "    continent, country = row\n",
    "    print(continent.name, continent.country, country.capital)\n",
    "    \n",
    "session.close()\n",
    "\n",
    "print('-' * 15)\n",
    "\n",
    "# Join tables method 2:\n",
    "cols = [Continent.name, Continent.country, Country.capital]\n",
    "join2 = session.query(*cols).filter(Continent.country == Country.name).limit(5).all()\n",
    "for data in join2:\n",
    "    continent, country, capital = data\n",
    "    print(f'{country} is in {continent} and its captial is {capital}')\n",
    "\n",
    "session.close()"
   ]
  },
  {
   "cell_type": "code",
   "execution_count": null,
   "metadata": {},
   "outputs": [],
   "source": []
  }
 ],
 "metadata": {
  "kernelspec": {
   "display_name": "Python 3",
   "language": "python",
   "name": "python3"
  },
  "language_info": {
   "codemirror_mode": {
    "name": "ipython",
    "version": 3
   },
   "file_extension": ".py",
   "mimetype": "text/x-python",
   "name": "python",
   "nbconvert_exporter": "python",
   "pygments_lexer": "ipython3",
   "version": "3.7.9"
  }
 },
 "nbformat": 4,
 "nbformat_minor": 4
}
